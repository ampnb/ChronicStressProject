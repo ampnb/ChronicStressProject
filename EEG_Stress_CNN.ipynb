{
  "nbformat": 4,
  "nbformat_minor": 0,
  "metadata": {
    "colab": {
      "provenance": [],
      "authorship_tag": "ABX9TyPNg9SRfhWMqK6U7MObMADf",
      "include_colab_link": true
    },
    "kernelspec": {
      "name": "python3",
      "display_name": "Python 3"
    },
    "language_info": {
      "name": "python"
    },
    "accelerator": "GPU",
    "gpuClass": "standard"
  },
  "cells": [
    {
      "cell_type": "markdown",
      "metadata": {
        "id": "view-in-github",
        "colab_type": "text"
      },
      "source": [
        "<a href=\"https://colab.research.google.com/github/ampnb/ChronicStressProject/blob/main/EEG_Stress_CNN.ipynb\" target=\"_parent\"><img src=\"https://colab.research.google.com/assets/colab-badge.svg\" alt=\"Open In Colab\"/></a>"
      ]
    },
    {
      "cell_type": "code",
      "source": [
        "!pip install --upgrade --no-cache-dir gdown"
      ],
      "metadata": {
        "colab": {
          "base_uri": "https://localhost:8080/"
        },
        "id": "fwrERBtOU9hH",
        "outputId": "edaa1dcf-671f-4ef6-ec7c-d14dab0ebab9"
      },
      "execution_count": 1,
      "outputs": [
        {
          "output_type": "stream",
          "name": "stdout",
          "text": [
            "Looking in indexes: https://pypi.org/simple, https://us-python.pkg.dev/colab-wheels/public/simple/\n",
            "Requirement already satisfied: gdown in /usr/local/lib/python3.7/dist-packages (4.4.0)\n",
            "Collecting gdown\n",
            "  Downloading gdown-4.5.4-py3-none-any.whl (14 kB)\n",
            "Requirement already satisfied: tqdm in /usr/local/lib/python3.7/dist-packages (from gdown) (4.64.1)\n",
            "Requirement already satisfied: six in /usr/local/lib/python3.7/dist-packages (from gdown) (1.15.0)\n",
            "Requirement already satisfied: filelock in /usr/local/lib/python3.7/dist-packages (from gdown) (3.8.0)\n",
            "Requirement already satisfied: requests[socks] in /usr/local/lib/python3.7/dist-packages (from gdown) (2.23.0)\n",
            "Requirement already satisfied: beautifulsoup4 in /usr/local/lib/python3.7/dist-packages (from gdown) (4.6.3)\n",
            "Requirement already satisfied: certifi>=2017.4.17 in /usr/local/lib/python3.7/dist-packages (from requests[socks]->gdown) (2022.9.24)\n",
            "Requirement already satisfied: idna<3,>=2.5 in /usr/local/lib/python3.7/dist-packages (from requests[socks]->gdown) (2.10)\n",
            "Requirement already satisfied: urllib3!=1.25.0,!=1.25.1,<1.26,>=1.21.1 in /usr/local/lib/python3.7/dist-packages (from requests[socks]->gdown) (1.24.3)\n",
            "Requirement already satisfied: chardet<4,>=3.0.2 in /usr/local/lib/python3.7/dist-packages (from requests[socks]->gdown) (3.0.4)\n",
            "Requirement already satisfied: PySocks!=1.5.7,>=1.5.6 in /usr/local/lib/python3.7/dist-packages (from requests[socks]->gdown) (1.7.1)\n",
            "Installing collected packages: gdown\n",
            "  Attempting uninstall: gdown\n",
            "    Found existing installation: gdown 4.4.0\n",
            "    Uninstalling gdown-4.4.0:\n",
            "      Successfully uninstalled gdown-4.4.0\n",
            "Successfully installed gdown-4.5.4\n"
          ]
        }
      ]
    },
    {
      "cell_type": "code",
      "source": [
        "!gdown --id 1KZjrJfUrB_k1g8VUsohNpek_hvWNqGcr"
      ],
      "metadata": {
        "colab": {
          "base_uri": "https://localhost:8080/"
        },
        "id": "vup-n60iVEOK",
        "outputId": "64bce290-6bc7-4e25-9b53-7d2544e43ace"
      },
      "execution_count": 2,
      "outputs": [
        {
          "output_type": "stream",
          "name": "stdout",
          "text": [
            "/usr/local/lib/python3.7/dist-packages/gdown/cli.py:125: FutureWarning: Option `--id` was deprecated in version 4.3.1 and will be removed in 5.0. You don't need to pass it anymore to use a file ID.\n",
            "  category=FutureWarning,\n",
            "Downloading...\n",
            "From: https://drive.google.com/uc?id=1KZjrJfUrB_k1g8VUsohNpek_hvWNqGcr\n",
            "To: /content/Clean_signal.zip\n",
            "100% 113M/113M [00:00<00:00, 162MB/s]\n"
          ]
        }
      ]
    },
    {
      "cell_type": "code",
      "source": [
        "!unzip '/content/Clean_signal.zip'\n",
        "#!mv '/content/clean_exp16' 'Cleaned_signal'"
      ],
      "metadata": {
        "colab": {
          "base_uri": "https://localhost:8080/"
        },
        "id": "6pIlRs5wVA7D",
        "outputId": "cad07321-3d42-4927-fb62-b2bb4dc56930"
      },
      "execution_count": 3,
      "outputs": [
        {
          "output_type": "stream",
          "name": "stdout",
          "text": [
            "Archive:  /content/Clean_signal.zip\n",
            "   creating: Clean_signal/\n",
            "  inflating: __MACOSX/._Clean_signal  \n",
            "  inflating: Clean_signal/PSS10 - Sheet1.csv  \n",
            "  inflating: __MACOSX/Clean_signal/._PSS10 - Sheet1.csv  \n",
            "  inflating: Clean_signal/clean_exp08.csv  \n",
            "  inflating: __MACOSX/Clean_signal/._clean_exp08.csv  \n",
            "  inflating: Clean_signal/clean_exp09.csv  \n",
            "  inflating: __MACOSX/Clean_signal/._clean_exp09.csv  \n",
            "  inflating: Clean_signal/clean_exp01.csv  \n",
            "  inflating: __MACOSX/Clean_signal/._clean_exp01.csv  \n",
            "  inflating: Clean_signal/clean_exp15.csv  \n",
            "  inflating: __MACOSX/Clean_signal/._clean_exp15.csv  \n",
            "  inflating: Clean_signal/clean_exp14.csv  \n",
            "  inflating: __MACOSX/Clean_signal/._clean_exp14.csv  \n",
            "  inflating: Clean_signal/clean_exp16.csv  \n",
            "  inflating: __MACOSX/Clean_signal/._clean_exp16.csv  \n",
            "  inflating: Clean_signal/clean_exp02.csv  \n",
            "  inflating: __MACOSX/Clean_signal/._clean_exp02.csv  \n",
            "  inflating: Clean_signal/clean_exp03.csv  \n",
            "  inflating: __MACOSX/Clean_signal/._clean_exp03.csv  \n",
            "  inflating: Clean_signal/clean_exp17.csv  \n",
            "  inflating: __MACOSX/Clean_signal/._clean_exp17.csv  \n",
            "  inflating: Clean_signal/clean_exp13.csv  \n",
            "  inflating: __MACOSX/Clean_signal/._clean_exp13.csv  \n",
            "  inflating: Clean_signal/clean_exp07.csv  \n",
            "  inflating: __MACOSX/Clean_signal/._clean_exp07.csv  \n",
            "  inflating: Clean_signal/clean_exp06.csv  \n",
            "  inflating: __MACOSX/Clean_signal/._clean_exp06.csv  \n",
            "  inflating: Clean_signal/clean_exp12.csv  \n",
            "  inflating: __MACOSX/Clean_signal/._clean_exp12.csv  \n",
            "  inflating: Clean_signal/clean_exp04.csv  \n",
            "  inflating: __MACOSX/Clean_signal/._clean_exp04.csv  \n",
            "  inflating: Clean_signal/clean_exp10.csv  \n",
            "  inflating: __MACOSX/Clean_signal/._clean_exp10.csv  \n",
            "  inflating: Clean_signal/clean_exp11.csv  \n",
            "  inflating: __MACOSX/Clean_signal/._clean_exp11.csv  \n",
            "  inflating: Clean_signal/clean_exp05.csv  \n",
            "  inflating: __MACOSX/Clean_signal/._clean_exp05.csv  \n"
          ]
        }
      ]
    },
    {
      "cell_type": "code",
      "source": [
        "pip install mne"
      ],
      "metadata": {
        "colab": {
          "base_uri": "https://localhost:8080/"
        },
        "id": "pwzKGAORVEVK",
        "outputId": "cb93d2c7-56db-4c1c-be97-463d8b7b2d43"
      },
      "execution_count": 6,
      "outputs": [
        {
          "output_type": "stream",
          "name": "stdout",
          "text": [
            "Looking in indexes: https://pypi.org/simple, https://us-python.pkg.dev/colab-wheels/public/simple/\n",
            "Collecting mne\n",
            "  Downloading mne-1.2.2-py3-none-any.whl (7.6 MB)\n",
            "\u001b[K     |████████████████████████████████| 7.6 MB 5.9 MB/s \n",
            "\u001b[?25hRequirement already satisfied: numpy>=1.15.4 in /usr/local/lib/python3.7/dist-packages (from mne) (1.21.6)\n",
            "Requirement already satisfied: pooch>=1.5 in /usr/local/lib/python3.7/dist-packages (from mne) (1.6.0)\n",
            "Requirement already satisfied: scipy>=1.1.0 in /usr/local/lib/python3.7/dist-packages (from mne) (1.7.3)\n",
            "Requirement already satisfied: packaging in /usr/local/lib/python3.7/dist-packages (from mne) (21.3)\n",
            "Requirement already satisfied: tqdm in /usr/local/lib/python3.7/dist-packages (from mne) (4.64.1)\n",
            "Requirement already satisfied: jinja2 in /usr/local/lib/python3.7/dist-packages (from mne) (2.11.3)\n",
            "Requirement already satisfied: matplotlib in /usr/local/lib/python3.7/dist-packages (from mne) (3.2.2)\n",
            "Requirement already satisfied: decorator in /usr/local/lib/python3.7/dist-packages (from mne) (4.4.2)\n",
            "Requirement already satisfied: appdirs>=1.3.0 in /usr/local/lib/python3.7/dist-packages (from pooch>=1.5->mne) (1.4.4)\n",
            "Requirement already satisfied: requests>=2.19.0 in /usr/local/lib/python3.7/dist-packages (from pooch>=1.5->mne) (2.23.0)\n",
            "Requirement already satisfied: pyparsing!=3.0.5,>=2.0.2 in /usr/local/lib/python3.7/dist-packages (from packaging->mne) (3.0.9)\n",
            "Requirement already satisfied: urllib3!=1.25.0,!=1.25.1,<1.26,>=1.21.1 in /usr/local/lib/python3.7/dist-packages (from requests>=2.19.0->pooch>=1.5->mne) (1.24.3)\n",
            "Requirement already satisfied: certifi>=2017.4.17 in /usr/local/lib/python3.7/dist-packages (from requests>=2.19.0->pooch>=1.5->mne) (2022.9.24)\n",
            "Requirement already satisfied: chardet<4,>=3.0.2 in /usr/local/lib/python3.7/dist-packages (from requests>=2.19.0->pooch>=1.5->mne) (3.0.4)\n",
            "Requirement already satisfied: idna<3,>=2.5 in /usr/local/lib/python3.7/dist-packages (from requests>=2.19.0->pooch>=1.5->mne) (2.10)\n",
            "Requirement already satisfied: MarkupSafe>=0.23 in /usr/local/lib/python3.7/dist-packages (from jinja2->mne) (2.0.1)\n",
            "Requirement already satisfied: python-dateutil>=2.1 in /usr/local/lib/python3.7/dist-packages (from matplotlib->mne) (2.8.2)\n",
            "Requirement already satisfied: cycler>=0.10 in /usr/local/lib/python3.7/dist-packages (from matplotlib->mne) (0.11.0)\n",
            "Requirement already satisfied: kiwisolver>=1.0.1 in /usr/local/lib/python3.7/dist-packages (from matplotlib->mne) (1.4.4)\n",
            "Requirement already satisfied: typing-extensions in /usr/local/lib/python3.7/dist-packages (from kiwisolver>=1.0.1->matplotlib->mne) (4.1.1)\n",
            "Requirement already satisfied: six>=1.5 in /usr/local/lib/python3.7/dist-packages (from python-dateutil>=2.1->matplotlib->mne) (1.15.0)\n",
            "Installing collected packages: mne\n",
            "Successfully installed mne-1.2.2\n"
          ]
        }
      ]
    },
    {
      "cell_type": "code",
      "source": [
        "pip install components"
      ],
      "metadata": {
        "colab": {
          "base_uri": "https://localhost:8080/"
        },
        "id": "w10ogyD1VEYJ",
        "outputId": "22b821a7-a42a-43ac-fc0d-b761bc214316"
      },
      "execution_count": 7,
      "outputs": [
        {
          "output_type": "stream",
          "name": "stdout",
          "text": [
            "Looking in indexes: https://pypi.org/simple, https://us-python.pkg.dev/colab-wheels/public/simple/\n",
            "Requirement already satisfied: components in /usr/local/lib/python3.7/dist-packages (1.2.8)\n"
          ]
        }
      ]
    },
    {
      "cell_type": "code",
      "source": [
        "import pickle\n",
        "import numpy as np\n",
        "import os\n",
        "import mne\n",
        "import pandas as pd\n",
        "pickle.format_version\n",
        "\n",
        "import torch\n",
        "import torch.nn as nn\n",
        "import torch.nn.functional as F\n",
        "from torchvision import datasets, transforms  \n",
        "from torch.utils.data import DataLoader, Dataset  \n",
        "from torch.utils.data import TensorDataset\n",
        "from torch.autograd import Variable\n",
        "\n",
        "import pandas as pd\n",
        "from sklearn.metrics import confusion_matrix, ConfusionMatrixDisplay\n",
        "import matplotlib.pyplot as plt\n",
        "\n",
        "from sklearn.model_selection import train_test_split\n",
        "\n",
        "# setting seed so that splitting process and training process can be reproduce\n",
        "torch.manual_seed(1)"
      ],
      "metadata": {
        "colab": {
          "base_uri": "https://localhost:8080/"
        },
        "id": "oV3Wo3-mVEa9",
        "outputId": "7f9dc623-38f1-47f3-8e1b-04fd33b95311"
      },
      "execution_count": 8,
      "outputs": [
        {
          "output_type": "execute_result",
          "data": {
            "text/plain": [
              "<torch._C.Generator at 0x7f8af583af90>"
            ]
          },
          "metadata": {},
          "execution_count": 8
        }
      ]
    },
    {
      "cell_type": "markdown",
      "source": [
        "# ETL"
      ],
      "metadata": {
        "id": "6v7rkdizVS5M"
      }
    },
    {
      "cell_type": "code",
      "source": [
        "import os\n",
        "main_path = os.getcwd()\n",
        "filename = os.listdir(main_path + '/Clean_signal/')"
      ],
      "metadata": {
        "id": "RhLkEKQ1VEdx"
      },
      "execution_count": 9,
      "outputs": []
    },
    {
      "cell_type": "code",
      "source": [
        "filename = ['clean_exp01.csv',\n",
        " 'clean_exp02.csv',\n",
        " 'clean_exp03.csv',\n",
        " 'clean_exp04.csv',\n",
        " 'clean_exp05.csv',\n",
        " 'clean_exp06.csv',\n",
        " 'clean_exp07.csv',\n",
        " 'clean_exp08.csv',\n",
        " 'clean_exp09.csv',\n",
        " 'clean_exp10.csv',\n",
        " 'clean_exp11.csv',\n",
        " 'clean_exp12.csv',\n",
        " 'clean_exp13.csv',\n",
        " 'clean_exp14.csv',\n",
        " 'clean_exp15.csv',\n",
        " 'clean_exp16.csv',\n",
        " 'clean_exp17.csv']"
      ],
      "metadata": {
        "id": "cLR-bCqaVEgo"
      },
      "execution_count": 10,
      "outputs": []
    },
    {
      "cell_type": "code",
      "source": [
        "all_file_path = main_path + '/Clean_signal/'\n",
        "X_list = list()\n",
        "for file in filename:\n",
        "    file_path = all_file_path + file\n",
        "    df = pd.read_csv(file_path, index_col=None)\n",
        "    df = df.loc[:, ~df.columns.str.contains('^Unnamed')]\n",
        "    X_list.append(df)  "
      ],
      "metadata": {
        "id": "IT1a4C7WUiup"
      },
      "execution_count": 11,
      "outputs": []
    },
    {
      "cell_type": "code",
      "source": [
        "df.head()"
      ],
      "metadata": {
        "colab": {
          "base_uri": "https://localhost:8080/",
          "height": 270
        },
        "id": "COY-Jz-ZUiyo",
        "outputId": "48b2f03a-b836-4e90-da61-84d9d013b4aa"
      },
      "execution_count": 12,
      "outputs": [
        {
          "output_type": "execute_result",
          "data": {
            "text/plain": [
              "            Fp1           Fp2            F7            F3            F4  \\\n",
              "0  1.558541e-13  1.202787e-12 -1.822815e-12 -6.666149e-13 -1.524659e-14   \n",
              "1 -2.495299e+02 -2.591266e+02 -2.392414e+02 -2.472481e+02 -1.342918e+02   \n",
              "2 -1.022146e+02 -1.071695e+02 -8.913196e+01 -9.320015e+01 -7.188064e+01   \n",
              "3 -1.894707e+02 -1.985657e+02 -1.666088e+02 -1.773347e+02 -1.206077e+02   \n",
              "4 -1.976600e+02 -2.088452e+02 -1.691085e+02 -1.829386e+02 -1.219805e+02   \n",
              "\n",
              "             F8            T3            C3            C4            T4  \\\n",
              "0 -9.656176e-14  1.778769e-13 -7.318365e-13 -3.218725e-14  6.776264e-15   \n",
              "1 -2.469675e+02 -2.368676e+02 -2.375381e+02  8.964020e+01  9.114929e+01   \n",
              "2 -9.669399e+01 -7.360927e+01 -7.934479e+01 -8.483305e+00 -3.966042e+00   \n",
              "3 -1.861381e+02 -1.566157e+02 -1.616160e+02  1.053098e+01  1.359837e+01   \n",
              "4 -1.981792e+02 -1.664133e+02 -1.711082e+02  5.430791e+00  5.540176e+00   \n",
              "\n",
              "             T5            P3            P4            T6            O1  \\\n",
              "0  2.463172e-12 -5.293956e-13  1.679243e-13  2.774456e-12 -3.303428e-13   \n",
              "1  9.105020e+01  7.684951e+01  1.383037e+02 -4.155527e+02 -3.083336e+02   \n",
              "2  6.921319e-02 -5.860820e+00  6.340924e+00 -1.006591e+02 -7.385641e+01   \n",
              "3  2.570865e+01  1.375228e+01  4.319836e+01 -2.383818e+02 -1.751361e+02   \n",
              "4  2.039321e+01  9.522058e+00  4.153111e+01 -2.713544e+02 -1.985949e+02   \n",
              "\n",
              "             O2  \n",
              "0  2.217109e-13  \n",
              "1 -1.145710e+02  \n",
              "2 -3.186257e+01  \n",
              "3 -7.472951e+01  \n",
              "4 -9.082392e+01  "
            ],
            "text/html": [
              "\n",
              "  <div id=\"df-8c6661a6-53a0-4323-8b05-7a05314c4050\">\n",
              "    <div class=\"colab-df-container\">\n",
              "      <div>\n",
              "<style scoped>\n",
              "    .dataframe tbody tr th:only-of-type {\n",
              "        vertical-align: middle;\n",
              "    }\n",
              "\n",
              "    .dataframe tbody tr th {\n",
              "        vertical-align: top;\n",
              "    }\n",
              "\n",
              "    .dataframe thead th {\n",
              "        text-align: right;\n",
              "    }\n",
              "</style>\n",
              "<table border=\"1\" class=\"dataframe\">\n",
              "  <thead>\n",
              "    <tr style=\"text-align: right;\">\n",
              "      <th></th>\n",
              "      <th>Fp1</th>\n",
              "      <th>Fp2</th>\n",
              "      <th>F7</th>\n",
              "      <th>F3</th>\n",
              "      <th>F4</th>\n",
              "      <th>F8</th>\n",
              "      <th>T3</th>\n",
              "      <th>C3</th>\n",
              "      <th>C4</th>\n",
              "      <th>T4</th>\n",
              "      <th>T5</th>\n",
              "      <th>P3</th>\n",
              "      <th>P4</th>\n",
              "      <th>T6</th>\n",
              "      <th>O1</th>\n",
              "      <th>O2</th>\n",
              "    </tr>\n",
              "  </thead>\n",
              "  <tbody>\n",
              "    <tr>\n",
              "      <th>0</th>\n",
              "      <td>1.558541e-13</td>\n",
              "      <td>1.202787e-12</td>\n",
              "      <td>-1.822815e-12</td>\n",
              "      <td>-6.666149e-13</td>\n",
              "      <td>-1.524659e-14</td>\n",
              "      <td>-9.656176e-14</td>\n",
              "      <td>1.778769e-13</td>\n",
              "      <td>-7.318365e-13</td>\n",
              "      <td>-3.218725e-14</td>\n",
              "      <td>6.776264e-15</td>\n",
              "      <td>2.463172e-12</td>\n",
              "      <td>-5.293956e-13</td>\n",
              "      <td>1.679243e-13</td>\n",
              "      <td>2.774456e-12</td>\n",
              "      <td>-3.303428e-13</td>\n",
              "      <td>2.217109e-13</td>\n",
              "    </tr>\n",
              "    <tr>\n",
              "      <th>1</th>\n",
              "      <td>-2.495299e+02</td>\n",
              "      <td>-2.591266e+02</td>\n",
              "      <td>-2.392414e+02</td>\n",
              "      <td>-2.472481e+02</td>\n",
              "      <td>-1.342918e+02</td>\n",
              "      <td>-2.469675e+02</td>\n",
              "      <td>-2.368676e+02</td>\n",
              "      <td>-2.375381e+02</td>\n",
              "      <td>8.964020e+01</td>\n",
              "      <td>9.114929e+01</td>\n",
              "      <td>9.105020e+01</td>\n",
              "      <td>7.684951e+01</td>\n",
              "      <td>1.383037e+02</td>\n",
              "      <td>-4.155527e+02</td>\n",
              "      <td>-3.083336e+02</td>\n",
              "      <td>-1.145710e+02</td>\n",
              "    </tr>\n",
              "    <tr>\n",
              "      <th>2</th>\n",
              "      <td>-1.022146e+02</td>\n",
              "      <td>-1.071695e+02</td>\n",
              "      <td>-8.913196e+01</td>\n",
              "      <td>-9.320015e+01</td>\n",
              "      <td>-7.188064e+01</td>\n",
              "      <td>-9.669399e+01</td>\n",
              "      <td>-7.360927e+01</td>\n",
              "      <td>-7.934479e+01</td>\n",
              "      <td>-8.483305e+00</td>\n",
              "      <td>-3.966042e+00</td>\n",
              "      <td>6.921319e-02</td>\n",
              "      <td>-5.860820e+00</td>\n",
              "      <td>6.340924e+00</td>\n",
              "      <td>-1.006591e+02</td>\n",
              "      <td>-7.385641e+01</td>\n",
              "      <td>-3.186257e+01</td>\n",
              "    </tr>\n",
              "    <tr>\n",
              "      <th>3</th>\n",
              "      <td>-1.894707e+02</td>\n",
              "      <td>-1.985657e+02</td>\n",
              "      <td>-1.666088e+02</td>\n",
              "      <td>-1.773347e+02</td>\n",
              "      <td>-1.206077e+02</td>\n",
              "      <td>-1.861381e+02</td>\n",
              "      <td>-1.566157e+02</td>\n",
              "      <td>-1.616160e+02</td>\n",
              "      <td>1.053098e+01</td>\n",
              "      <td>1.359837e+01</td>\n",
              "      <td>2.570865e+01</td>\n",
              "      <td>1.375228e+01</td>\n",
              "      <td>4.319836e+01</td>\n",
              "      <td>-2.383818e+02</td>\n",
              "      <td>-1.751361e+02</td>\n",
              "      <td>-7.472951e+01</td>\n",
              "    </tr>\n",
              "    <tr>\n",
              "      <th>4</th>\n",
              "      <td>-1.976600e+02</td>\n",
              "      <td>-2.088452e+02</td>\n",
              "      <td>-1.691085e+02</td>\n",
              "      <td>-1.829386e+02</td>\n",
              "      <td>-1.219805e+02</td>\n",
              "      <td>-1.981792e+02</td>\n",
              "      <td>-1.664133e+02</td>\n",
              "      <td>-1.711082e+02</td>\n",
              "      <td>5.430791e+00</td>\n",
              "      <td>5.540176e+00</td>\n",
              "      <td>2.039321e+01</td>\n",
              "      <td>9.522058e+00</td>\n",
              "      <td>4.153111e+01</td>\n",
              "      <td>-2.713544e+02</td>\n",
              "      <td>-1.985949e+02</td>\n",
              "      <td>-9.082392e+01</td>\n",
              "    </tr>\n",
              "  </tbody>\n",
              "</table>\n",
              "</div>\n",
              "      <button class=\"colab-df-convert\" onclick=\"convertToInteractive('df-8c6661a6-53a0-4323-8b05-7a05314c4050')\"\n",
              "              title=\"Convert this dataframe to an interactive table.\"\n",
              "              style=\"display:none;\">\n",
              "        \n",
              "  <svg xmlns=\"http://www.w3.org/2000/svg\" height=\"24px\"viewBox=\"0 0 24 24\"\n",
              "       width=\"24px\">\n",
              "    <path d=\"M0 0h24v24H0V0z\" fill=\"none\"/>\n",
              "    <path d=\"M18.56 5.44l.94 2.06.94-2.06 2.06-.94-2.06-.94-.94-2.06-.94 2.06-2.06.94zm-11 1L8.5 8.5l.94-2.06 2.06-.94-2.06-.94L8.5 2.5l-.94 2.06-2.06.94zm10 10l.94 2.06.94-2.06 2.06-.94-2.06-.94-.94-2.06-.94 2.06-2.06.94z\"/><path d=\"M17.41 7.96l-1.37-1.37c-.4-.4-.92-.59-1.43-.59-.52 0-1.04.2-1.43.59L10.3 9.45l-7.72 7.72c-.78.78-.78 2.05 0 2.83L4 21.41c.39.39.9.59 1.41.59.51 0 1.02-.2 1.41-.59l7.78-7.78 2.81-2.81c.8-.78.8-2.07 0-2.86zM5.41 20L4 18.59l7.72-7.72 1.47 1.35L5.41 20z\"/>\n",
              "  </svg>\n",
              "      </button>\n",
              "      \n",
              "  <style>\n",
              "    .colab-df-container {\n",
              "      display:flex;\n",
              "      flex-wrap:wrap;\n",
              "      gap: 12px;\n",
              "    }\n",
              "\n",
              "    .colab-df-convert {\n",
              "      background-color: #E8F0FE;\n",
              "      border: none;\n",
              "      border-radius: 50%;\n",
              "      cursor: pointer;\n",
              "      display: none;\n",
              "      fill: #1967D2;\n",
              "      height: 32px;\n",
              "      padding: 0 0 0 0;\n",
              "      width: 32px;\n",
              "    }\n",
              "\n",
              "    .colab-df-convert:hover {\n",
              "      background-color: #E2EBFA;\n",
              "      box-shadow: 0px 1px 2px rgba(60, 64, 67, 0.3), 0px 1px 3px 1px rgba(60, 64, 67, 0.15);\n",
              "      fill: #174EA6;\n",
              "    }\n",
              "\n",
              "    [theme=dark] .colab-df-convert {\n",
              "      background-color: #3B4455;\n",
              "      fill: #D2E3FC;\n",
              "    }\n",
              "\n",
              "    [theme=dark] .colab-df-convert:hover {\n",
              "      background-color: #434B5C;\n",
              "      box-shadow: 0px 1px 3px 1px rgba(0, 0, 0, 0.15);\n",
              "      filter: drop-shadow(0px 1px 2px rgba(0, 0, 0, 0.3));\n",
              "      fill: #FFFFFF;\n",
              "    }\n",
              "  </style>\n",
              "\n",
              "      <script>\n",
              "        const buttonEl =\n",
              "          document.querySelector('#df-8c6661a6-53a0-4323-8b05-7a05314c4050 button.colab-df-convert');\n",
              "        buttonEl.style.display =\n",
              "          google.colab.kernel.accessAllowed ? 'block' : 'none';\n",
              "\n",
              "        async function convertToInteractive(key) {\n",
              "          const element = document.querySelector('#df-8c6661a6-53a0-4323-8b05-7a05314c4050');\n",
              "          const dataTable =\n",
              "            await google.colab.kernel.invokeFunction('convertToInteractive',\n",
              "                                                     [key], {});\n",
              "          if (!dataTable) return;\n",
              "\n",
              "          const docLinkHtml = 'Like what you see? Visit the ' +\n",
              "            '<a target=\"_blank\" href=https://colab.research.google.com/notebooks/data_table.ipynb>data table notebook</a>'\n",
              "            + ' to learn more about interactive tables.';\n",
              "          element.innerHTML = '';\n",
              "          dataTable['output_type'] = 'display_data';\n",
              "          await google.colab.output.renderOutput(dataTable, element);\n",
              "          const docLink = document.createElement('div');\n",
              "          docLink.innerHTML = docLinkHtml;\n",
              "          element.appendChild(docLink);\n",
              "        }\n",
              "      </script>\n",
              "    </div>\n",
              "  </div>\n",
              "  "
            ]
          },
          "metadata": {},
          "execution_count": 12
        }
      ]
    },
    {
      "cell_type": "code",
      "source": [
        "X = np.array(X_list)\n",
        "X.shape \n",
        "#17 people \n",
        "#250 hz * 60 secs * 3 min\n",
        "#16 channels"
      ],
      "metadata": {
        "colab": {
          "base_uri": "https://localhost:8080/"
        },
        "id": "PEw38IzfV9Ze",
        "outputId": "d8b698fc-bf58-4205-aade-b00a4406b830"
      },
      "execution_count": 13,
      "outputs": [
        {
          "output_type": "execute_result",
          "data": {
            "text/plain": [
              "(17, 45000, 16)"
            ]
          },
          "metadata": {},
          "execution_count": 13
        }
      ]
    },
    {
      "cell_type": "code",
      "source": [
        "# Reshape\n",
        "X = np.transpose(X, (0, 2, 1))\n",
        "X.shape"
      ],
      "metadata": {
        "colab": {
          "base_uri": "https://localhost:8080/"
        },
        "id": "2sJ3TIjQV9cz",
        "outputId": "427b47d3-2858-4d28-de1c-ba6874d39ea1"
      },
      "execution_count": 14,
      "outputs": [
        {
          "output_type": "execute_result",
          "data": {
            "text/plain": [
              "(17, 16, 45000)"
            ]
          },
          "metadata": {},
          "execution_count": 14
        }
      ]
    },
    {
      "cell_type": "code",
      "source": [
        "def vectorized_windowing(arr, window_len, overlap_len=None):\n",
        "    '''\n",
        "    Sliding window without using loop\n",
        "    '''\n",
        "    seq_len = arr.shape[-1]\n",
        "    \n",
        "    if not overlap_len:\n",
        "        overlap_len = window_len\n",
        "\n",
        "    n_sliding_windows = ((seq_len - window_len) // overlap_len) + 1\n",
        "\n",
        "    sub_windows = np.array([np.arange(window_len)]) + np.array([np.arange(n_sliding_windows) * overlap_len]).T\n",
        "\n",
        "    slided_arr = arr[..., sub_windows]\n",
        "\n",
        "    return slided_arr\n"
      ],
      "metadata": {
        "id": "x9lOPEaJ1Upc"
      },
      "execution_count": 15,
      "outputs": []
    },
    {
      "cell_type": "code",
      "source": [
        "X_chunked = vectorized_windowing(X, window_len=4500)\n",
        "X_chunked = np.swapaxes(X_chunked,1,2).reshape(-1, 16, 4500)\n",
        "\n",
        "print(X_chunked.shape)\n",
        "\n",
        "X = X_chunked.copy()\n",
        "\n",
        "# 17 people split in 10 chunks\n",
        "# 16 channels\n",
        "# 4500 signals "
      ],
      "metadata": {
        "colab": {
          "base_uri": "https://localhost:8080/"
        },
        "id": "-rG8-cd11Xm7",
        "outputId": "54910518-fa8d-440a-9524-a9e779e6e58b"
      },
      "execution_count": 71,
      "outputs": [
        {
          "output_type": "stream",
          "name": "stdout",
          "text": [
            "(170, 16, 4500)\n"
          ]
        }
      ]
    },
    {
      "cell_type": "code",
      "source": [
        "y_path = '/content/Clean_signal/PSS10 - Sheet1.csv'\n",
        "df = pd.read_csv(y_path)\n",
        "y = np.array(df['label'])\n",
        "y"
      ],
      "metadata": {
        "colab": {
          "base_uri": "https://localhost:8080/"
        },
        "id": "ACZEM4DBV9fl",
        "outputId": "0634c151-5c48-4460-b6d9-622dd6912bd3"
      },
      "execution_count": 72,
      "outputs": [
        {
          "output_type": "execute_result",
          "data": {
            "text/plain": [
              "array([1, 1, 1, 0, 0, 0, 0, 1, 0, 0, 0, 1, 0, 0, 0, 1, 1])"
            ]
          },
          "metadata": {},
          "execution_count": 72
        }
      ]
    },
    {
      "cell_type": "code",
      "source": [
        "y_chunked = np.repeat(y, 10)\n",
        "\n",
        "y = y_chunked.copy()"
      ],
      "metadata": {
        "id": "TEGVmz846DkW"
      },
      "execution_count": 73,
      "outputs": []
    },
    {
      "cell_type": "code",
      "source": [
        "y_chunked.shape"
      ],
      "metadata": {
        "colab": {
          "base_uri": "https://localhost:8080/"
        },
        "id": "gLXcEEK3s4BU",
        "outputId": "77596105-5d83-4718-8b43-994b22ac776e"
      },
      "execution_count": 74,
      "outputs": [
        {
          "output_type": "execute_result",
          "data": {
            "text/plain": [
              "(170,)"
            ]
          },
          "metadata": {},
          "execution_count": 74
        }
      ]
    },
    {
      "cell_type": "markdown",
      "source": [
        "# Split Data"
      ],
      "metadata": {
        "id": "nGw8680y-3N5"
      }
    },
    {
      "cell_type": "code",
      "source": [
        "X_train, X_test, y_train, y_test = train_test_split(X, y, test_size=0.2, shuffle = False, stratify = None)\n",
        "\n",
        "print(X_train.shape, X_test.shape, y_train.shape, y_test.shape)"
      ],
      "metadata": {
        "colab": {
          "base_uri": "https://localhost:8080/"
        },
        "id": "awnviaHZcdH7",
        "outputId": "53a643e6-5668-4b22-f6c6-9e4e623ab2f4"
      },
      "execution_count": 75,
      "outputs": [
        {
          "output_type": "stream",
          "name": "stdout",
          "text": [
            "(136, 16, 4500) (34, 16, 4500) (136,) (34,)\n"
          ]
        }
      ]
    },
    {
      "cell_type": "code",
      "source": [
        "print(X_test)"
      ],
      "metadata": {
        "colab": {
          "base_uri": "https://localhost:8080/"
        },
        "id": "4lNlvnIMXXMI",
        "outputId": "70825677-0588-446e-9513-dcaafe5091b4"
      },
      "execution_count": 76,
      "outputs": [
        {
          "output_type": "stream",
          "name": "stdout",
          "text": [
            "[[[ 7.84200330e+00  1.47207470e+01  1.42052595e+01 ... -5.89349247e+00\n",
            "   -1.51828042e+01 -2.08104358e+01]\n",
            "  [ 3.16583543e+00  8.26135009e+00  9.23106733e+00 ... -2.71454574e+01\n",
            "   -3.25662288e+01 -3.54135998e+01]\n",
            "  [ 2.32398500e+00  5.09731303e+00  3.61993697e-01 ... -1.74988647e+01\n",
            "   -2.87856476e+01 -3.47425425e+01]\n",
            "  ...\n",
            "  [-8.76076464e+00 -1.74142656e+00  5.77302593e-01 ...  2.39540520e+00\n",
            "    2.14318766e+00 -1.96665306e+00]\n",
            "  [ 3.02666012e+00  6.51500100e+00  4.10581095e+00 ...  3.91447209e+01\n",
            "    3.74479023e+01  2.25009333e+01]\n",
            "  [-1.46662092e+01 -3.50361569e+00  1.18964341e+00 ...  1.17311595e+01\n",
            "    1.10058886e+01 -3.73502614e+00]]\n",
            "\n",
            " [[-1.82454441e+01 -1.57154517e+01 -9.08109711e+00 ... -5.01454830e+00\n",
            "   -8.80962712e+00 -4.94259629e+00]\n",
            "  [-3.47973429e+01 -3.61339346e+01 -2.94382432e+01 ... -2.55171581e+00\n",
            "   -7.39142312e+00 -5.25420300e+00]\n",
            "  [-3.00576255e+01 -3.15323330e+01 -2.53430851e+01 ...  2.28278037e+00\n",
            "   -2.40692220e+00 -6.11756015e-02]\n",
            "  ...\n",
            "  [-2.07971800e+00 -2.52503017e-01  5.09790304e+00 ... -3.14076622e+00\n",
            "   -4.28058327e+00 -7.12660240e+00]\n",
            "  [ 4.35591237e+00 -4.57899853e+00 -6.25330591e+00 ... -3.28461268e+01\n",
            "   -3.00851284e+01 -1.55351592e+01]\n",
            "  [-1.19161368e+01 -9.40704227e+00 -4.14098964e+00 ... -8.17306879e+00\n",
            "   -7.56269858e+00 -5.87773352e+00]]\n",
            "\n",
            " [[-2.55895094e+00 -5.78241185e+00 -1.94101434e+00 ...  1.02858771e+01\n",
            "    1.46039031e+01  8.81544340e+00]\n",
            "  [-3.93388416e+00 -5.59066990e+00 -4.68423117e+00 ...  4.26031693e-01\n",
            "    6.03638910e+00 -1.45738098e+00]\n",
            "  [ 8.42393571e+00  6.82235937e+00  4.25529333e+00 ...  1.95785361e+01\n",
            "    2.36030598e+01  1.66985685e+01]\n",
            "  ...\n",
            "  [-9.25299856e+00 -7.95336033e+00 -5.84309971e+00 ...  5.98576127e+00\n",
            "    1.47156705e+01  1.70193845e+01]\n",
            "  [-2.10494402e+00 -2.15289886e+00 -9.29289139e+00 ...  2.19074083e+01\n",
            "    2.74035879e+01  1.95985165e+01]\n",
            "  [-3.89282985e+00 -3.54409343e+00 -5.11216727e+00 ...  1.54793166e+01\n",
            "    1.73550575e+01  1.39748558e+01]]\n",
            "\n",
            " ...\n",
            "\n",
            " [[ 3.17531096e+01  3.28001297e+01  3.30714791e+01 ... -5.18032270e+00\n",
            "    6.71832316e-01 -1.65334382e+00]\n",
            "  [ 2.46521394e+01  2.64001551e+01  2.55888297e+01 ... -2.44915088e+00\n",
            "    6.21596000e+00  3.89736128e+00]\n",
            "  [ 3.85433008e+01  3.62744450e+01  3.28495352e+01 ... -7.78193969e+00\n",
            "   -4.88275784e+00 -1.17770283e+01]\n",
            "  ...\n",
            "  [ 6.27970587e+01  6.75369204e+01  7.25241459e+01 ...  1.47631630e+01\n",
            "    1.11632825e+01  9.97103668e-01]\n",
            "  [-2.76864694e+00 -3.87042386e+00 -8.53924951e-01 ...  7.86840864e+00\n",
            "    4.28568100e+00 -5.32936869e+00]\n",
            "  [-2.27726663e+01 -9.83800172e+00  2.91855996e+00 ... -5.06363240e-02\n",
            "   -5.37021047e+00 -1.10162400e+01]]\n",
            "\n",
            " [[-1.03845318e+00  1.46715954e+01  2.16027717e+01 ...  5.97502281e-01\n",
            "    9.50369863e+00  2.27134810e+01]\n",
            "  [ 2.67038823e+00  2.21784941e+01  3.30299691e+01 ...  1.79567409e+00\n",
            "    1.40727621e+01  3.22251139e+01]\n",
            "  [-1.30335234e+01  1.36390143e+00  9.31477142e+00 ... -8.27321998e+00\n",
            "    2.59472689e+00  1.54252150e+01]\n",
            "  ...\n",
            "  [-4.10438533e+00 -6.39680547e+00 -9.85097543e+00 ... -1.79668183e+01\n",
            "   -1.63830837e+01 -8.95476878e+00]\n",
            "  [-9.40488240e+00 -8.89058515e+00 -8.43275640e+00 ...  4.13391765e+00\n",
            "    9.77695490e-01  1.58381483e+00]\n",
            "  [-1.21702694e+01 -1.36673843e+01 -1.26007425e+01 ... -6.81864220e+00\n",
            "   -1.32554064e+01 -1.38373846e+01]]\n",
            "\n",
            " [[-4.88985611e+00  3.11771092e+00  6.51197896e+00 ... -2.20719563e+01\n",
            "   -1.13576914e+02  3.32036915e-13]\n",
            "  [ 4.55329838e-01  4.16656692e+00  1.19269709e+01 ... -2.59238206e+01\n",
            "   -1.20994091e+02 -2.14299336e-12]\n",
            "  [-1.41921417e+01 -4.10346916e+00  4.01353981e+00 ... -2.63955657e+01\n",
            "   -1.15157851e+02 -1.71058304e-12]\n",
            "  ...\n",
            "  [-1.43085275e+01 -1.75655533e+01 -1.73438179e+01 ... -1.25148914e+02\n",
            "   -5.55865478e+02 -2.68340038e-12]\n",
            "  [-4.68377952e+00 -7.31895181e+00 -8.14388028e+00 ... -1.09210646e+02\n",
            "   -4.88264616e+02 -1.35525272e-12]\n",
            "  [-1.22149249e+01 -1.64239501e+01 -1.50505326e+01 ... -5.95475034e+01\n",
            "   -3.09504495e+02  8.30092288e-14]]]\n"
          ]
        }
      ]
    },
    {
      "cell_type": "code",
      "source": [
        "print(X_test)"
      ],
      "metadata": {
        "colab": {
          "base_uri": "https://localhost:8080/"
        },
        "id": "N9Ih6_WEXtuo",
        "outputId": "60b9dfa4-f91e-483a-ae33-8f9ecacbea6c"
      },
      "execution_count": 77,
      "outputs": [
        {
          "output_type": "stream",
          "name": "stdout",
          "text": [
            "[[[ 7.84200330e+00  1.47207470e+01  1.42052595e+01 ... -5.89349247e+00\n",
            "   -1.51828042e+01 -2.08104358e+01]\n",
            "  [ 3.16583543e+00  8.26135009e+00  9.23106733e+00 ... -2.71454574e+01\n",
            "   -3.25662288e+01 -3.54135998e+01]\n",
            "  [ 2.32398500e+00  5.09731303e+00  3.61993697e-01 ... -1.74988647e+01\n",
            "   -2.87856476e+01 -3.47425425e+01]\n",
            "  ...\n",
            "  [-8.76076464e+00 -1.74142656e+00  5.77302593e-01 ...  2.39540520e+00\n",
            "    2.14318766e+00 -1.96665306e+00]\n",
            "  [ 3.02666012e+00  6.51500100e+00  4.10581095e+00 ...  3.91447209e+01\n",
            "    3.74479023e+01  2.25009333e+01]\n",
            "  [-1.46662092e+01 -3.50361569e+00  1.18964341e+00 ...  1.17311595e+01\n",
            "    1.10058886e+01 -3.73502614e+00]]\n",
            "\n",
            " [[-1.82454441e+01 -1.57154517e+01 -9.08109711e+00 ... -5.01454830e+00\n",
            "   -8.80962712e+00 -4.94259629e+00]\n",
            "  [-3.47973429e+01 -3.61339346e+01 -2.94382432e+01 ... -2.55171581e+00\n",
            "   -7.39142312e+00 -5.25420300e+00]\n",
            "  [-3.00576255e+01 -3.15323330e+01 -2.53430851e+01 ...  2.28278037e+00\n",
            "   -2.40692220e+00 -6.11756015e-02]\n",
            "  ...\n",
            "  [-2.07971800e+00 -2.52503017e-01  5.09790304e+00 ... -3.14076622e+00\n",
            "   -4.28058327e+00 -7.12660240e+00]\n",
            "  [ 4.35591237e+00 -4.57899853e+00 -6.25330591e+00 ... -3.28461268e+01\n",
            "   -3.00851284e+01 -1.55351592e+01]\n",
            "  [-1.19161368e+01 -9.40704227e+00 -4.14098964e+00 ... -8.17306879e+00\n",
            "   -7.56269858e+00 -5.87773352e+00]]\n",
            "\n",
            " [[-2.55895094e+00 -5.78241185e+00 -1.94101434e+00 ...  1.02858771e+01\n",
            "    1.46039031e+01  8.81544340e+00]\n",
            "  [-3.93388416e+00 -5.59066990e+00 -4.68423117e+00 ...  4.26031693e-01\n",
            "    6.03638910e+00 -1.45738098e+00]\n",
            "  [ 8.42393571e+00  6.82235937e+00  4.25529333e+00 ...  1.95785361e+01\n",
            "    2.36030598e+01  1.66985685e+01]\n",
            "  ...\n",
            "  [-9.25299856e+00 -7.95336033e+00 -5.84309971e+00 ...  5.98576127e+00\n",
            "    1.47156705e+01  1.70193845e+01]\n",
            "  [-2.10494402e+00 -2.15289886e+00 -9.29289139e+00 ...  2.19074083e+01\n",
            "    2.74035879e+01  1.95985165e+01]\n",
            "  [-3.89282985e+00 -3.54409343e+00 -5.11216727e+00 ...  1.54793166e+01\n",
            "    1.73550575e+01  1.39748558e+01]]\n",
            "\n",
            " ...\n",
            "\n",
            " [[ 3.17531096e+01  3.28001297e+01  3.30714791e+01 ... -5.18032270e+00\n",
            "    6.71832316e-01 -1.65334382e+00]\n",
            "  [ 2.46521394e+01  2.64001551e+01  2.55888297e+01 ... -2.44915088e+00\n",
            "    6.21596000e+00  3.89736128e+00]\n",
            "  [ 3.85433008e+01  3.62744450e+01  3.28495352e+01 ... -7.78193969e+00\n",
            "   -4.88275784e+00 -1.17770283e+01]\n",
            "  ...\n",
            "  [ 6.27970587e+01  6.75369204e+01  7.25241459e+01 ...  1.47631630e+01\n",
            "    1.11632825e+01  9.97103668e-01]\n",
            "  [-2.76864694e+00 -3.87042386e+00 -8.53924951e-01 ...  7.86840864e+00\n",
            "    4.28568100e+00 -5.32936869e+00]\n",
            "  [-2.27726663e+01 -9.83800172e+00  2.91855996e+00 ... -5.06363240e-02\n",
            "   -5.37021047e+00 -1.10162400e+01]]\n",
            "\n",
            " [[-1.03845318e+00  1.46715954e+01  2.16027717e+01 ...  5.97502281e-01\n",
            "    9.50369863e+00  2.27134810e+01]\n",
            "  [ 2.67038823e+00  2.21784941e+01  3.30299691e+01 ...  1.79567409e+00\n",
            "    1.40727621e+01  3.22251139e+01]\n",
            "  [-1.30335234e+01  1.36390143e+00  9.31477142e+00 ... -8.27321998e+00\n",
            "    2.59472689e+00  1.54252150e+01]\n",
            "  ...\n",
            "  [-4.10438533e+00 -6.39680547e+00 -9.85097543e+00 ... -1.79668183e+01\n",
            "   -1.63830837e+01 -8.95476878e+00]\n",
            "  [-9.40488240e+00 -8.89058515e+00 -8.43275640e+00 ...  4.13391765e+00\n",
            "    9.77695490e-01  1.58381483e+00]\n",
            "  [-1.21702694e+01 -1.36673843e+01 -1.26007425e+01 ... -6.81864220e+00\n",
            "   -1.32554064e+01 -1.38373846e+01]]\n",
            "\n",
            " [[-4.88985611e+00  3.11771092e+00  6.51197896e+00 ... -2.20719563e+01\n",
            "   -1.13576914e+02  3.32036915e-13]\n",
            "  [ 4.55329838e-01  4.16656692e+00  1.19269709e+01 ... -2.59238206e+01\n",
            "   -1.20994091e+02 -2.14299336e-12]\n",
            "  [-1.41921417e+01 -4.10346916e+00  4.01353981e+00 ... -2.63955657e+01\n",
            "   -1.15157851e+02 -1.71058304e-12]\n",
            "  ...\n",
            "  [-1.43085275e+01 -1.75655533e+01 -1.73438179e+01 ... -1.25148914e+02\n",
            "   -5.55865478e+02 -2.68340038e-12]\n",
            "  [-4.68377952e+00 -7.31895181e+00 -8.14388028e+00 ... -1.09210646e+02\n",
            "   -4.88264616e+02 -1.35525272e-12]\n",
            "  [-1.22149249e+01 -1.64239501e+01 -1.50505326e+01 ... -5.95475034e+01\n",
            "   -3.09504495e+02  8.30092288e-14]]]\n"
          ]
        }
      ]
    },
    {
      "cell_type": "code",
      "source": [
        "X_train, X_val, y_train, y_val = train_test_split(X_train, y_train, test_size=0.1, random_state=999)\n",
        "print(X_train.shape, X_val.shape, y_train.shape, y_val.shape)"
      ],
      "metadata": {
        "colab": {
          "base_uri": "https://localhost:8080/"
        },
        "id": "TF6zuq4phP9E",
        "outputId": "76c27d73-17fc-4477-e5f6-78d67353f6b1"
      },
      "execution_count": 78,
      "outputs": [
        {
          "output_type": "stream",
          "name": "stdout",
          "text": [
            "(122, 16, 4500) (14, 16, 4500) (122,) (14,)\n"
          ]
        }
      ]
    },
    {
      "cell_type": "code",
      "source": [
        "from sklearn.preprocessing import MinMaxScaler\n",
        "\n",
        "#scale transform each channel independently\n",
        "scalers = {}\n",
        "for i in range(X_train.shape[2]):\n",
        "    scalers[i] = MinMaxScaler(feature_range=(-1, 1))\n",
        "    X_train[:, :, i] = scalers[i].fit_transform(X_train[:, :, i]) \n",
        "\n",
        "for i in range(X_val.shape[2]):\n",
        "    X_val[:, :, i]   = scalers[i].transform(X_val[:, :, i])     \n",
        "    \n",
        "for i in range(X_test.shape[2]):\n",
        "    X_test[:, :, i]  = scalers[i].transform(X_test[:, :, i]) "
      ],
      "metadata": {
        "id": "BOOZBX7BhRpR"
      },
      "execution_count": 79,
      "outputs": []
    },
    {
      "cell_type": "code",
      "source": [
        "print(X_train.mean(), X_val.mean(), X_test.mean())\n",
        "print(X_train.min(), X_val.min(), X_test.min())\n",
        "print(X_train.max(), X_val.max(), X_test.max())"
      ],
      "metadata": {
        "colab": {
          "base_uri": "https://localhost:8080/"
        },
        "id": "TbYlRdOGhUKy",
        "outputId": "fd653014-de20-4f58-ce42-074d8242d279"
      },
      "execution_count": 80,
      "outputs": [
        {
          "output_type": "stream",
          "name": "stdout",
          "text": [
            "0.004228958769664231 0.004157039756496878 0.004641125739653987\n",
            "-1.0 -29.253222821649473 -257.7915643965592\n",
            "1.0000000000000004 15.788878605040534 870.0946728954643\n"
          ]
        }
      ]
    },
    {
      "cell_type": "markdown",
      "source": [
        "# Define Batch size and train,test, val loader"
      ],
      "metadata": {
        "id": "hOl5sDXo_C_C"
      }
    },
    {
      "cell_type": "code",
      "source": [
        "X_train_tensor = torch.tensor(X_train).to(torch.float32)\n",
        "y_train_tensor = torch.tensor(y_train).to(torch.float32)\n",
        "X_val_tensor = torch.tensor(X_val).to(torch.float32)\n",
        "y_val_tensor = torch.tensor(y_val).to(torch.float32)\n",
        "X_test_tensor = torch.tensor(X_test).to(torch.float32)\n",
        "y_test_tensor = torch.tensor(y_test).to(torch.float32)\n",
        "\n",
        "# Cast data to dataloader for more convenience\n",
        "training_set = TensorDataset(X_train_tensor, y_train_tensor)\n",
        "testing_set = TensorDataset(X_test_tensor, y_test_tensor)\n",
        "validation_set = TensorDataset(X_val_tensor, y_val_tensor)\n",
        "\n",
        "train_batch_size = 32\n",
        "val_batch_size = len(validation_set)\n",
        "test_batch_size = len(testing_set)\n",
        "\n",
        "train_loader = DataLoader(training_set, train_batch_size, shuffle=True)\n",
        "val_loader = DataLoader(validation_set, val_batch_size, shuffle=True)\n",
        "test_loader = DataLoader(testing_set, test_batch_size, shuffle=True)"
      ],
      "metadata": {
        "id": "Y1enUccbhXGK"
      },
      "execution_count": 81,
      "outputs": []
    },
    {
      "cell_type": "code",
      "source": [
        "for data, label in train_loader:\n",
        "  print(data)\n",
        "  break"
      ],
      "metadata": {
        "colab": {
          "base_uri": "https://localhost:8080/"
        },
        "id": "LEJ3VJt3huYw",
        "outputId": "ca2619a5-02d4-4687-8d66-fe52d85d40e3"
      },
      "execution_count": 82,
      "outputs": [
        {
          "output_type": "stream",
          "name": "stdout",
          "text": [
            "tensor([[[ 0.4009, -0.4025, -0.1494,  ..., -0.0950, -0.7196,  0.1631],\n",
            "         [ 0.3356,  0.8194,  0.4492,  ...,  0.6008,  0.8193,  0.4361],\n",
            "         [ 0.2170, -0.4353, -0.1286,  ..., -0.6672, -1.0000, -0.0748],\n",
            "         ...,\n",
            "         [ 0.4583, -0.6802, -0.1381,  ...,  0.7840,  0.2209,  0.6766],\n",
            "         [ 0.7633,  0.7314,  0.7361,  ...,  0.7080,  0.7432,  0.7674],\n",
            "         [ 0.7411,  0.6117, -0.0446,  ...,  0.9558,  0.8781,  0.7777]],\n",
            "\n",
            "        [[ 0.3373, -0.5012, -0.2741,  ...,  0.2261,  0.3842,  0.1631],\n",
            "         [ 0.3523,  0.8157,  0.4216,  ...,  0.6823,  0.9234,  0.4361],\n",
            "         [ 0.2666, -0.4215, -0.1113,  ..., -0.3478,  0.0447, -0.0748],\n",
            "         ...,\n",
            "         [ 0.4747, -0.6412, -0.0534,  ...,  0.8008,  0.2178,  0.6766],\n",
            "         [ 0.7755,  0.7516,  0.7571,  ...,  0.7114,  0.7493,  0.7674],\n",
            "         [ 0.7532,  0.6523, -0.0216,  ...,  0.9567,  0.8787,  0.7777]],\n",
            "\n",
            "        [[ 0.3030, -0.4288, -0.1108,  ..., -0.1985, -0.4254, -0.1813],\n",
            "         [ 0.2413,  0.8103,  0.4532,  ...,  0.5233,  0.8352,  0.2124],\n",
            "         [ 0.1924, -0.4071, -0.0546,  ..., -0.7409, -0.5868, -0.2888],\n",
            "         ...,\n",
            "         [ 0.4487, -0.6657, -0.0962,  ...,  0.7575,  0.1818,  0.6820],\n",
            "         [ 0.7672,  0.7402,  0.7454,  ...,  0.7034,  0.7319,  0.7609],\n",
            "         [ 0.7309,  0.6144, -0.0534,  ...,  0.9399,  0.8435,  0.7579]],\n",
            "\n",
            "        ...,\n",
            "\n",
            "        [[ 0.1896, -0.6144, -0.2705,  ..., -0.0232, -0.2726, -0.0316],\n",
            "         [ 0.1992,  0.7921,  0.3480,  ...,  0.5591,  0.8461,  0.1775],\n",
            "         [ 0.0792, -0.6205, -0.2249,  ..., -0.7141, -0.6152, -0.3163],\n",
            "         ...,\n",
            "         [ 0.4515, -0.6824, -0.1456,  ...,  0.7918,  0.2085,  0.6943],\n",
            "         [ 0.7741,  0.7462,  0.7559,  ...,  0.7098,  0.7395,  0.7695],\n",
            "         [ 0.7260,  0.5656, -0.1421,  ...,  0.9563,  0.8631,  0.7794]],\n",
            "\n",
            "        [[ 0.3923, -0.3994, -0.0393,  ...,  0.0708, -0.2701,  0.1631],\n",
            "         [ 0.2745,  0.8088,  0.5075,  ...,  0.6864,  0.8730,  0.4361],\n",
            "         [ 0.1946, -0.4760, -0.1063,  ..., -0.4017, -0.2720, -0.0748],\n",
            "         ...,\n",
            "         [ 0.5095, -0.6684, -0.1438,  ...,  0.7815,  0.1957,  0.6766],\n",
            "         [ 0.7813,  0.7511,  0.7505,  ...,  0.7045,  0.7370,  0.7674],\n",
            "         [ 0.7643,  0.6313, -0.0677,  ...,  0.9457,  0.8554,  0.7777]],\n",
            "\n",
            "        [[ 0.3445, -0.4572, -0.0871,  ..., -0.1337, -0.1643,  0.2194],\n",
            "         [ 0.1894,  0.7953,  0.4087,  ...,  0.5898,  0.8782,  0.5933],\n",
            "         [ 0.4143, -0.2188,  0.1588,  ..., -0.8709, -0.6581, -0.2970],\n",
            "         ...,\n",
            "         [ 0.4823, -0.6668, -0.1317,  ...,  0.7208,  0.1659,  0.6441],\n",
            "         [ 0.7724,  0.7438,  0.7460,  ...,  0.6976,  0.7263,  0.7534],\n",
            "         [ 0.7476,  0.6229, -0.0854,  ...,  0.9167,  0.8226,  0.7363]]])\n"
          ]
        }
      ]
    },
    {
      "cell_type": "code",
      "source": [
        "data.shape"
      ],
      "metadata": {
        "colab": {
          "base_uri": "https://localhost:8080/"
        },
        "id": "PVMFMBwAjImF",
        "outputId": "753c2c7a-1cbf-4f68-c414-4c317fbb1c8b"
      },
      "execution_count": 83,
      "outputs": [
        {
          "output_type": "execute_result",
          "data": {
            "text/plain": [
              "torch.Size([32, 16, 4500])"
            ]
          },
          "metadata": {},
          "execution_count": 83
        }
      ]
    },
    {
      "cell_type": "code",
      "source": [
        "device = 'cuda' if torch.cuda.is_available() else 'cpu'"
      ],
      "metadata": {
        "id": "HaiKzvgCjc3_"
      },
      "execution_count": 84,
      "outputs": []
    },
    {
      "cell_type": "markdown",
      "source": [
        "# CNN1D model"
      ],
      "metadata": {
        "id": "tMV89z27_HmH"
      }
    },
    {
      "cell_type": "code",
      "source": [
        "class eegConv1d(nn.Module):\n",
        "    def __init__(self, input_size = 16, out_size=2):\n",
        "        super().__init__()\n",
        "        self.c1 = nn.Conv1d(input_size, 50, kernel_size = 3)\n",
        "        self.c2 = nn.Conv1d(50, 30, kernel_size = 3)\n",
        "        self.relu = nn.ReLU()\n",
        "        self.dropout = nn.Dropout(p=0.5)\n",
        "        self.maxpool1d = nn.MaxPool1d(2,2)\n",
        "        self.linear = nn.Linear(30 * 2247, out_size) #taking the last hidden state\n",
        "        \n",
        "    def forward(self, seq):\n",
        "        #convo layer 8 -> 50 -> 30\n",
        "        #seq shape: (11, 50, 45000)\n",
        "        out = self.c1(seq)\n",
        "        out = self.relu(out)\n",
        "        out = self.dropout(out)\n",
        "        # out shape: (11, 50, 44998)\n",
        "        out = self.maxpool1d(out)\n",
        "        # out shape: (11, 50, 22499)\n",
        "        out = self.c2(out)\n",
        "        out = self.relu(out)\n",
        "        # out shape: (11, 30, 22496)\n",
        "        out = out.reshape(seq.size(0), -1)\n",
        "        #out shape: (30, 30*22496)\n",
        "        out = self.linear(out)\n",
        "        #out shape: (30*22496, 2)\n",
        "        return out"
      ],
      "metadata": {
        "id": "U0bk5XjGjoMk"
      },
      "execution_count": 85,
      "outputs": []
    },
    {
      "cell_type": "code",
      "source": [
        "import time\n",
        "\n",
        "def epoch_time(start_time, end_time):\n",
        "    elapsed_time = end_time - start_time\n",
        "    elapsed_mins = int(elapsed_time / 60)\n",
        "    elapsed_secs = int(elapsed_time - (elapsed_mins * 60))\n",
        "    return elapsed_mins, elapsed_secs"
      ],
      "metadata": {
        "id": "TIOLWwwXpMpw"
      },
      "execution_count": 97,
      "outputs": []
    },
    {
      "cell_type": "code",
      "source": [
        "# torch.manual_seed(999999)\n",
        "device = torch.device(\"cuda\" if torch.cuda.is_available() else \"cpu\")\n",
        "model = eegConv1d(input_size=16).to(device)\n",
        "criterion = nn.CrossEntropyLoss()\n",
        "optimizer = torch.optim.Adam(model.parameters(), lr = 0.0001)"
      ],
      "metadata": {
        "id": "Vy6ADHh2Ca9z"
      },
      "execution_count": 98,
      "outputs": []
    },
    {
      "cell_type": "code",
      "source": [
        "epochs = 200\n",
        "\n",
        "best_valid_loss = float('inf')\n",
        "model.train()\n",
        "\n",
        "train_losses = []\n",
        "train_accs   = []\n",
        "valid_losses = []\n",
        "valid_accs   = []\n",
        "\n",
        "\n",
        "#print(f\"Training {type(model).__name__}\")\n",
        "\n",
        "for i in range(epochs):\n",
        "    train_total = 0\n",
        "    train_correct = 0\n",
        "    val_total   = 0  \n",
        "    val_correct = 0\n",
        "    train_acc   = 0\n",
        "    val_acc     = 0\n",
        "    \n",
        "    for X_train, y_train in train_loader:\n",
        "    \n",
        "        start_time = time.time()\n",
        "        \n",
        "        X_train = X_train.float().to(device)\n",
        "        y_train = y_train.type(torch.LongTensor).to(device)\n",
        "\n",
        "        #print(X_train.shape, X_train.dtype)\n",
        "\n",
        "        yhat_train = model(X_train)\n",
        "        \n",
        "        #train acc\n",
        "        _, predicted = torch.max(yhat_train.data, 1)  #returns max value, indices\n",
        "        train_total += y_train.size(0)  #keep track of total\n",
        "        train_correct += (predicted == y_train).sum().item()  #.item() give the raw number\n",
        "        train_acc = 100 * (train_correct / train_total)\n",
        "        \n",
        "        #print(y_train.shape, y_train.dtype)\n",
        "        \n",
        "        train_loss = criterion(yhat_train, y_train)\n",
        "        optimizer.zero_grad()\n",
        "        train_loss.backward()\n",
        "        optimizer.step()\n",
        "\n",
        "        end_time = time.time()\n",
        "    \n",
        "\n",
        "        #val accuracy\n",
        "        for X_val, y_val in val_loader:\n",
        "            X_val = X_val.float().to(device)\n",
        "            y_val = y_val.type(torch.LongTensor).to(device)\n",
        "            yhat_val  = model(X_val)\n",
        "            val_loss     = criterion(yhat_val, y_val)\n",
        "            _, predicted = torch.max(yhat_val.data, 1)  #returns max value, indices\n",
        "            val_total += y_val.size(0)  #keep track of total\n",
        "            val_correct += (predicted == y_val).sum().item()  #.item() give the raw number\n",
        "            val_acc = 100 * (val_correct / val_total)\n",
        "\n",
        "        #save the best model\n",
        "        if  val_loss < best_valid_loss:\n",
        "            best_valid_loss = val_loss\n",
        "            #print(\"Model:{} saved.\".format(type(model).__name__))\n",
        "            torch.save(model.state_dict(), './models/CNN1D.pt')\n",
        "            best_model_index = i\n",
        "\n",
        "        epoch_mins, epoch_secs = epoch_time(start_time, end_time)\n",
        "\n",
        "\n",
        "                    #for plotting\n",
        "        train_losses.append(train_loss.item())\n",
        "        train_accs  .append(train_acc)\n",
        "        valid_losses.append(val_loss.item())\n",
        "        valid_accs  .append(val_acc)\n",
        "\n",
        "    print(f\"Epoch: {i:2.0f} | Train acc: {train_acc: 2.2f} | \" +\n",
        "          f\"loss: {train_loss:2.5f} | Val acc: {val_acc: 2.2f} | \" +\n",
        "          f\"loss: {val_loss:2.5f} | Time: {epoch_mins}m {epoch_secs}s\")"
      ],
      "metadata": {
        "colab": {
          "base_uri": "https://localhost:8080/"
        },
        "id": "pC8Chq51CbBX",
        "outputId": "98d94217-f70d-4259-d8b7-3d07f688d624"
      },
      "execution_count": 99,
      "outputs": [
        {
          "output_type": "stream",
          "name": "stdout",
          "text": [
            "Epoch:  0 | Train acc:  62.30 | loss: 0.67652 | Val acc:  57.14 | loss: 0.70248 | Time: 0m 0s\n",
            "Epoch:  1 | Train acc:  56.56 | loss: 0.68236 | Val acc:  50.00 | loss: 0.80297 | Time: 0m 0s\n",
            "Epoch:  2 | Train acc:  63.93 | loss: 0.56509 | Val acc:  57.14 | loss: 0.76120 | Time: 0m 0s\n",
            "Epoch:  3 | Train acc:  67.21 | loss: 0.59906 | Val acc:  55.36 | loss: 0.71392 | Time: 0m 0s\n",
            "Epoch:  4 | Train acc:  64.75 | loss: 0.64155 | Val acc:  57.14 | loss: 0.81181 | Time: 0m 0s\n",
            "Epoch:  5 | Train acc:  65.57 | loss: 0.52618 | Val acc:  57.14 | loss: 0.71430 | Time: 0m 0s\n",
            "Epoch:  6 | Train acc:  68.85 | loss: 0.62027 | Val acc:  57.14 | loss: 0.72324 | Time: 0m 0s\n",
            "Epoch:  7 | Train acc:  69.67 | loss: 0.55094 | Val acc:  57.14 | loss: 0.74590 | Time: 0m 0s\n",
            "Epoch:  8 | Train acc:  68.85 | loss: 0.57148 | Val acc:  57.14 | loss: 0.71190 | Time: 0m 0s\n",
            "Epoch:  9 | Train acc:  69.67 | loss: 0.61264 | Val acc:  57.14 | loss: 0.73783 | Time: 0m 0s\n",
            "Epoch: 10 | Train acc:  69.67 | loss: 0.64221 | Val acc:  57.14 | loss: 0.74635 | Time: 0m 0s\n",
            "Epoch: 11 | Train acc:  70.49 | loss: 0.50700 | Val acc:  57.14 | loss: 0.73617 | Time: 0m 0s\n",
            "Epoch: 12 | Train acc:  70.49 | loss: 0.54746 | Val acc:  57.14 | loss: 0.75800 | Time: 0m 0s\n",
            "Epoch: 13 | Train acc:  69.67 | loss: 0.54696 | Val acc:  57.14 | loss: 0.77186 | Time: 0m 0s\n",
            "Epoch: 14 | Train acc:  78.69 | loss: 0.55770 | Val acc:  57.14 | loss: 0.78157 | Time: 0m 0s\n",
            "Epoch: 15 | Train acc:  75.41 | loss: 0.50269 | Val acc:  57.14 | loss: 0.82014 | Time: 0m 0s\n",
            "Epoch: 16 | Train acc:  72.13 | loss: 0.44996 | Val acc:  57.14 | loss: 0.80531 | Time: 0m 0s\n",
            "Epoch: 17 | Train acc:  87.70 | loss: 0.42208 | Val acc:  57.14 | loss: 0.82646 | Time: 0m 0s\n",
            "Epoch: 18 | Train acc:  74.59 | loss: 0.39270 | Val acc:  57.14 | loss: 0.89659 | Time: 0m 0s\n",
            "Epoch: 19 | Train acc:  90.98 | loss: 0.43201 | Val acc:  53.57 | loss: 0.79926 | Time: 0m 0s\n",
            "Epoch: 20 | Train acc:  79.51 | loss: 0.32511 | Val acc:  57.14 | loss: 0.94054 | Time: 0m 0s\n",
            "Epoch: 21 | Train acc:  88.52 | loss: 0.41358 | Val acc:  44.64 | loss: 0.90163 | Time: 0m 0s\n",
            "Epoch: 22 | Train acc:  76.23 | loss: 0.49145 | Val acc:  57.14 | loss: 1.01050 | Time: 0m 0s\n",
            "Epoch: 23 | Train acc:  90.16 | loss: 0.44356 | Val acc:  46.43 | loss: 0.85499 | Time: 0m 0s\n",
            "Epoch: 24 | Train acc:  89.34 | loss: 0.41809 | Val acc:  53.57 | loss: 1.19192 | Time: 0m 0s\n",
            "Epoch: 25 | Train acc:  90.16 | loss: 0.31474 | Val acc:  55.36 | loss: 0.94262 | Time: 0m 0s\n",
            "Epoch: 26 | Train acc:  98.36 | loss: 0.34117 | Val acc:  55.36 | loss: 1.06910 | Time: 0m 0s\n",
            "Epoch: 27 | Train acc:  96.72 | loss: 0.26836 | Val acc:  57.14 | loss: 1.04625 | Time: 0m 0s\n",
            "Epoch: 28 | Train acc:  98.36 | loss: 0.28090 | Val acc:  46.43 | loss: 1.15130 | Time: 0m 0s\n",
            "Epoch: 29 | Train acc:  99.18 | loss: 0.27446 | Val acc:  58.93 | loss: 1.09557 | Time: 0m 0s\n",
            "Epoch: 30 | Train acc:  98.36 | loss: 0.28765 | Val acc:  55.36 | loss: 1.23376 | Time: 0m 0s\n",
            "Epoch: 31 | Train acc:  97.54 | loss: 0.32137 | Val acc:  53.57 | loss: 1.16940 | Time: 0m 0s\n",
            "Epoch: 32 | Train acc:  90.98 | loss: 0.34261 | Val acc:  58.93 | loss: 1.30414 | Time: 0m 0s\n",
            "Epoch: 33 | Train acc:  96.72 | loss: 0.28946 | Val acc:  41.07 | loss: 1.17705 | Time: 0m 0s\n",
            "Epoch: 34 | Train acc:  92.62 | loss: 0.27540 | Val acc:  57.14 | loss: 1.32280 | Time: 0m 0s\n",
            "Epoch: 35 | Train acc:  96.72 | loss: 0.19656 | Val acc:  44.64 | loss: 1.17119 | Time: 0m 0s\n",
            "Epoch: 36 | Train acc:  98.36 | loss: 0.18359 | Val acc:  57.14 | loss: 1.38580 | Time: 0m 0s\n",
            "Epoch: 37 | Train acc:  98.36 | loss: 0.23447 | Val acc:  48.21 | loss: 1.28433 | Time: 0m 0s\n",
            "Epoch: 38 | Train acc:  95.90 | loss: 0.28129 | Val acc:  55.36 | loss: 1.42335 | Time: 0m 0s\n",
            "Epoch: 39 | Train acc:  100.00 | loss: 0.20859 | Val acc:  48.21 | loss: 1.34419 | Time: 0m 0s\n",
            "Epoch: 40 | Train acc:  96.72 | loss: 0.17702 | Val acc:  53.57 | loss: 1.50564 | Time: 0m 0s\n",
            "Epoch: 41 | Train acc:  100.00 | loss: 0.18446 | Val acc:  51.79 | loss: 1.42627 | Time: 0m 0s\n",
            "Epoch: 42 | Train acc:  100.00 | loss: 0.15961 | Val acc:  51.79 | loss: 1.65661 | Time: 0m 0s\n",
            "Epoch: 43 | Train acc:  100.00 | loss: 0.15459 | Val acc:  51.79 | loss: 1.49622 | Time: 0m 0s\n",
            "Epoch: 44 | Train acc:  100.00 | loss: 0.18014 | Val acc:  55.36 | loss: 1.53596 | Time: 0m 0s\n",
            "Epoch: 45 | Train acc:  100.00 | loss: 0.13397 | Val acc:  53.57 | loss: 1.53870 | Time: 0m 0s\n",
            "Epoch: 46 | Train acc:  100.00 | loss: 0.13998 | Val acc:  55.36 | loss: 1.60274 | Time: 0m 0s\n",
            "Epoch: 47 | Train acc:  100.00 | loss: 0.15805 | Val acc:  53.57 | loss: 1.45623 | Time: 0m 0s\n",
            "Epoch: 48 | Train acc:  100.00 | loss: 0.12214 | Val acc:  53.57 | loss: 1.66466 | Time: 0m 0s\n",
            "Epoch: 49 | Train acc:  100.00 | loss: 0.14459 | Val acc:  53.57 | loss: 1.74691 | Time: 0m 0s\n",
            "Epoch: 50 | Train acc:  100.00 | loss: 0.09398 | Val acc:  57.14 | loss: 1.61658 | Time: 0m 0s\n",
            "Epoch: 51 | Train acc:  100.00 | loss: 0.11504 | Val acc:  50.00 | loss: 1.85644 | Time: 0m 0s\n",
            "Epoch: 52 | Train acc:  100.00 | loss: 0.10524 | Val acc:  51.79 | loss: 1.72286 | Time: 0m 0s\n",
            "Epoch: 53 | Train acc:  100.00 | loss: 0.11693 | Val acc:  51.79 | loss: 1.73828 | Time: 0m 0s\n",
            "Epoch: 54 | Train acc:  100.00 | loss: 0.12133 | Val acc:  53.57 | loss: 1.70775 | Time: 0m 0s\n",
            "Epoch: 55 | Train acc:  100.00 | loss: 0.08426 | Val acc:  51.79 | loss: 1.82207 | Time: 0m 0s\n",
            "Epoch: 56 | Train acc:  100.00 | loss: 0.09747 | Val acc:  50.00 | loss: 1.67648 | Time: 0m 0s\n",
            "Epoch: 57 | Train acc:  100.00 | loss: 0.10467 | Val acc:  51.79 | loss: 1.83429 | Time: 0m 0s\n",
            "Epoch: 58 | Train acc:  100.00 | loss: 0.11613 | Val acc:  48.21 | loss: 1.85181 | Time: 0m 0s\n",
            "Epoch: 59 | Train acc:  100.00 | loss: 0.06219 | Val acc:  46.43 | loss: 1.90441 | Time: 0m 0s\n",
            "Epoch: 60 | Train acc:  100.00 | loss: 0.07844 | Val acc:  48.21 | loss: 2.04539 | Time: 0m 0s\n",
            "Epoch: 61 | Train acc:  100.00 | loss: 0.10538 | Val acc:  51.79 | loss: 1.99177 | Time: 0m 0s\n",
            "Epoch: 62 | Train acc:  100.00 | loss: 0.06971 | Val acc:  55.36 | loss: 1.87459 | Time: 0m 0s\n",
            "Epoch: 63 | Train acc:  100.00 | loss: 0.07642 | Val acc:  51.79 | loss: 2.14580 | Time: 0m 0s\n",
            "Epoch: 64 | Train acc:  100.00 | loss: 0.07553 | Val acc:  51.79 | loss: 1.91983 | Time: 0m 0s\n",
            "Epoch: 65 | Train acc:  100.00 | loss: 0.07368 | Val acc:  48.21 | loss: 2.00288 | Time: 0m 0s\n",
            "Epoch: 66 | Train acc:  100.00 | loss: 0.05651 | Val acc:  42.86 | loss: 1.88697 | Time: 0m 0s\n",
            "Epoch: 67 | Train acc:  100.00 | loss: 0.08621 | Val acc:  51.79 | loss: 2.14117 | Time: 0m 0s\n",
            "Epoch: 68 | Train acc:  100.00 | loss: 0.05402 | Val acc:  48.21 | loss: 1.99853 | Time: 0m 0s\n",
            "Epoch: 69 | Train acc:  100.00 | loss: 0.07126 | Val acc:  55.36 | loss: 2.10893 | Time: 0m 0s\n",
            "Epoch: 70 | Train acc:  100.00 | loss: 0.05522 | Val acc:  50.00 | loss: 2.17680 | Time: 0m 0s\n",
            "Epoch: 71 | Train acc:  100.00 | loss: 0.05282 | Val acc:  51.79 | loss: 2.07357 | Time: 0m 0s\n",
            "Epoch: 72 | Train acc:  100.00 | loss: 0.07079 | Val acc:  55.36 | loss: 2.40301 | Time: 0m 0s\n",
            "Epoch: 73 | Train acc:  100.00 | loss: 0.03139 | Val acc:  50.00 | loss: 2.27363 | Time: 0m 0s\n",
            "Epoch: 74 | Train acc:  100.00 | loss: 0.04910 | Val acc:  48.21 | loss: 2.16843 | Time: 0m 0s\n",
            "Epoch: 75 | Train acc:  100.00 | loss: 0.04068 | Val acc:  46.43 | loss: 2.49099 | Time: 0m 0s\n",
            "Epoch: 76 | Train acc:  100.00 | loss: 0.03498 | Val acc:  48.21 | loss: 2.36417 | Time: 0m 0s\n",
            "Epoch: 77 | Train acc:  100.00 | loss: 0.04563 | Val acc:  51.79 | loss: 2.30070 | Time: 0m 0s\n",
            "Epoch: 78 | Train acc:  100.00 | loss: 0.04161 | Val acc:  48.21 | loss: 2.36696 | Time: 0m 0s\n",
            "Epoch: 79 | Train acc:  100.00 | loss: 0.04347 | Val acc:  51.79 | loss: 2.20822 | Time: 0m 0s\n",
            "Epoch: 80 | Train acc:  100.00 | loss: 0.04713 | Val acc:  51.79 | loss: 2.44785 | Time: 0m 0s\n",
            "Epoch: 81 | Train acc:  100.00 | loss: 0.02786 | Val acc:  50.00 | loss: 2.20831 | Time: 0m 0s\n",
            "Epoch: 82 | Train acc:  100.00 | loss: 0.02698 | Val acc:  46.43 | loss: 2.36947 | Time: 0m 0s\n",
            "Epoch: 83 | Train acc:  100.00 | loss: 0.03015 | Val acc:  51.79 | loss: 2.48592 | Time: 0m 0s\n",
            "Epoch: 84 | Train acc:  100.00 | loss: 0.02889 | Val acc:  53.57 | loss: 2.25854 | Time: 0m 0s\n",
            "Epoch: 85 | Train acc:  100.00 | loss: 0.02174 | Val acc:  48.21 | loss: 2.47702 | Time: 0m 0s\n",
            "Epoch: 86 | Train acc:  100.00 | loss: 0.02644 | Val acc:  46.43 | loss: 2.43591 | Time: 0m 0s\n",
            "Epoch: 87 | Train acc:  100.00 | loss: 0.04347 | Val acc:  51.79 | loss: 2.29012 | Time: 0m 0s\n",
            "Epoch: 88 | Train acc:  100.00 | loss: 0.03133 | Val acc:  55.36 | loss: 2.75975 | Time: 0m 0s\n",
            "Epoch: 89 | Train acc:  100.00 | loss: 0.03798 | Val acc:  51.79 | loss: 2.35778 | Time: 0m 0s\n",
            "Epoch: 90 | Train acc:  100.00 | loss: 0.02305 | Val acc:  48.21 | loss: 2.32850 | Time: 0m 0s\n",
            "Epoch: 91 | Train acc:  100.00 | loss: 0.02514 | Val acc:  57.14 | loss: 2.56226 | Time: 0m 0s\n",
            "Epoch: 92 | Train acc:  100.00 | loss: 0.03087 | Val acc:  55.36 | loss: 2.39096 | Time: 0m 0s\n",
            "Epoch: 93 | Train acc:  100.00 | loss: 0.03673 | Val acc:  51.79 | loss: 2.48051 | Time: 0m 0s\n",
            "Epoch: 94 | Train acc:  100.00 | loss: 0.01812 | Val acc:  53.57 | loss: 2.59056 | Time: 0m 0s\n",
            "Epoch: 95 | Train acc:  100.00 | loss: 0.01456 | Val acc:  44.64 | loss: 2.70450 | Time: 0m 0s\n",
            "Epoch: 96 | Train acc:  100.00 | loss: 0.02026 | Val acc:  51.79 | loss: 2.65684 | Time: 0m 0s\n",
            "Epoch: 97 | Train acc:  100.00 | loss: 0.01655 | Val acc:  51.79 | loss: 2.57970 | Time: 0m 0s\n",
            "Epoch: 98 | Train acc:  100.00 | loss: 0.01715 | Val acc:  50.00 | loss: 2.61503 | Time: 0m 0s\n",
            "Epoch: 99 | Train acc:  100.00 | loss: 0.02661 | Val acc:  51.79 | loss: 2.64015 | Time: 0m 0s\n",
            "Epoch: 100 | Train acc:  100.00 | loss: 0.02381 | Val acc:  51.79 | loss: 2.57507 | Time: 0m 0s\n",
            "Epoch: 101 | Train acc:  100.00 | loss: 0.01803 | Val acc:  53.57 | loss: 2.59925 | Time: 0m 0s\n",
            "Epoch: 102 | Train acc:  100.00 | loss: 0.01829 | Val acc:  50.00 | loss: 2.59087 | Time: 0m 0s\n",
            "Epoch: 103 | Train acc:  100.00 | loss: 0.01395 | Val acc:  50.00 | loss: 2.59710 | Time: 0m 0s\n",
            "Epoch: 104 | Train acc:  100.00 | loss: 0.01709 | Val acc:  48.21 | loss: 2.86936 | Time: 0m 0s\n",
            "Epoch: 105 | Train acc:  100.00 | loss: 0.01730 | Val acc:  44.64 | loss: 2.84349 | Time: 0m 0s\n",
            "Epoch: 106 | Train acc:  100.00 | loss: 0.02160 | Val acc:  50.00 | loss: 2.66427 | Time: 0m 0s\n",
            "Epoch: 107 | Train acc:  100.00 | loss: 0.01928 | Val acc:  50.00 | loss: 2.84672 | Time: 0m 0s\n",
            "Epoch: 108 | Train acc:  100.00 | loss: 0.01319 | Val acc:  46.43 | loss: 2.74712 | Time: 0m 0s\n",
            "Epoch: 109 | Train acc:  100.00 | loss: 0.01045 | Val acc:  50.00 | loss: 2.95283 | Time: 0m 0s\n",
            "Epoch: 110 | Train acc:  100.00 | loss: 0.01739 | Val acc:  55.36 | loss: 2.90478 | Time: 0m 0s\n",
            "Epoch: 111 | Train acc:  100.00 | loss: 0.01427 | Val acc:  55.36 | loss: 2.71820 | Time: 0m 0s\n",
            "Epoch: 112 | Train acc:  100.00 | loss: 0.01175 | Val acc:  46.43 | loss: 2.91046 | Time: 0m 0s\n",
            "Epoch: 113 | Train acc:  100.00 | loss: 0.00878 | Val acc:  53.57 | loss: 2.67201 | Time: 0m 0s\n",
            "Epoch: 114 | Train acc:  100.00 | loss: 0.01056 | Val acc:  48.21 | loss: 2.84014 | Time: 0m 0s\n",
            "Epoch: 115 | Train acc:  100.00 | loss: 0.01923 | Val acc:  53.57 | loss: 3.04893 | Time: 0m 0s\n",
            "Epoch: 116 | Train acc:  100.00 | loss: 0.01250 | Val acc:  51.79 | loss: 3.03666 | Time: 0m 0s\n",
            "Epoch: 117 | Train acc:  100.00 | loss: 0.01127 | Val acc:  46.43 | loss: 2.60680 | Time: 0m 0s\n",
            "Epoch: 118 | Train acc:  100.00 | loss: 0.01260 | Val acc:  44.64 | loss: 3.01545 | Time: 0m 0s\n",
            "Epoch: 119 | Train acc:  100.00 | loss: 0.01471 | Val acc:  50.00 | loss: 3.10898 | Time: 0m 0s\n",
            "Epoch: 120 | Train acc:  100.00 | loss: 0.00883 | Val acc:  48.21 | loss: 3.05553 | Time: 0m 0s\n",
            "Epoch: 121 | Train acc:  100.00 | loss: 0.01000 | Val acc:  48.21 | loss: 3.03130 | Time: 0m 0s\n",
            "Epoch: 122 | Train acc:  100.00 | loss: 0.01099 | Val acc:  55.36 | loss: 2.99492 | Time: 0m 0s\n",
            "Epoch: 123 | Train acc:  100.00 | loss: 0.01192 | Val acc:  50.00 | loss: 2.90955 | Time: 0m 0s\n",
            "Epoch: 124 | Train acc:  100.00 | loss: 0.01580 | Val acc:  51.79 | loss: 3.18225 | Time: 0m 0s\n",
            "Epoch: 125 | Train acc:  100.00 | loss: 0.01733 | Val acc:  41.07 | loss: 2.98363 | Time: 0m 0s\n",
            "Epoch: 126 | Train acc:  100.00 | loss: 0.01104 | Val acc:  46.43 | loss: 3.15223 | Time: 0m 0s\n",
            "Epoch: 127 | Train acc:  100.00 | loss: 0.00817 | Val acc:  48.21 | loss: 3.02870 | Time: 0m 0s\n",
            "Epoch: 128 | Train acc:  100.00 | loss: 0.00837 | Val acc:  48.21 | loss: 2.99984 | Time: 0m 0s\n",
            "Epoch: 129 | Train acc:  100.00 | loss: 0.00699 | Val acc:  48.21 | loss: 3.06187 | Time: 0m 0s\n",
            "Epoch: 130 | Train acc:  100.00 | loss: 0.01243 | Val acc:  50.00 | loss: 3.23795 | Time: 0m 0s\n",
            "Epoch: 131 | Train acc:  100.00 | loss: 0.01287 | Val acc:  51.79 | loss: 3.34049 | Time: 0m 0s\n",
            "Epoch: 132 | Train acc:  100.00 | loss: 0.00713 | Val acc:  48.21 | loss: 3.13206 | Time: 0m 0s\n",
            "Epoch: 133 | Train acc:  100.00 | loss: 0.00738 | Val acc:  46.43 | loss: 3.26840 | Time: 0m 0s\n",
            "Epoch: 134 | Train acc:  100.00 | loss: 0.00671 | Val acc:  50.00 | loss: 3.43449 | Time: 0m 0s\n",
            "Epoch: 135 | Train acc:  100.00 | loss: 0.00804 | Val acc:  51.79 | loss: 3.28640 | Time: 0m 0s\n",
            "Epoch: 136 | Train acc:  100.00 | loss: 0.00917 | Val acc:  46.43 | loss: 2.97891 | Time: 0m 0s\n",
            "Epoch: 137 | Train acc:  100.00 | loss: 0.00982 | Val acc:  44.64 | loss: 2.86927 | Time: 0m 0s\n",
            "Epoch: 138 | Train acc:  100.00 | loss: 0.01055 | Val acc:  46.43 | loss: 3.15497 | Time: 0m 0s\n",
            "Epoch: 139 | Train acc:  100.00 | loss: 0.00712 | Val acc:  44.64 | loss: 3.17951 | Time: 0m 0s\n",
            "Epoch: 140 | Train acc:  100.00 | loss: 0.00906 | Val acc:  44.64 | loss: 3.21917 | Time: 0m 0s\n",
            "Epoch: 141 | Train acc:  100.00 | loss: 0.00651 | Val acc:  51.79 | loss: 3.21459 | Time: 0m 0s\n",
            "Epoch: 142 | Train acc:  100.00 | loss: 0.00664 | Val acc:  46.43 | loss: 3.28377 | Time: 0m 0s\n",
            "Epoch: 143 | Train acc:  100.00 | loss: 0.00587 | Val acc:  46.43 | loss: 3.10149 | Time: 0m 0s\n",
            "Epoch: 144 | Train acc:  100.00 | loss: 0.00567 | Val acc:  51.79 | loss: 3.20249 | Time: 0m 0s\n",
            "Epoch: 145 | Train acc:  100.00 | loss: 0.00794 | Val acc:  53.57 | loss: 3.15480 | Time: 0m 0s\n",
            "Epoch: 146 | Train acc:  100.00 | loss: 0.00624 | Val acc:  48.21 | loss: 3.30088 | Time: 0m 0s\n",
            "Epoch: 147 | Train acc:  100.00 | loss: 0.00763 | Val acc:  50.00 | loss: 3.33430 | Time: 0m 0s\n",
            "Epoch: 148 | Train acc:  100.00 | loss: 0.00981 | Val acc:  44.64 | loss: 3.36529 | Time: 0m 0s\n",
            "Epoch: 149 | Train acc:  100.00 | loss: 0.00993 | Val acc:  42.86 | loss: 3.53364 | Time: 0m 0s\n",
            "Epoch: 150 | Train acc:  100.00 | loss: 0.00912 | Val acc:  42.86 | loss: 3.34087 | Time: 0m 0s\n",
            "Epoch: 151 | Train acc:  100.00 | loss: 0.00551 | Val acc:  44.64 | loss: 3.27477 | Time: 0m 0s\n",
            "Epoch: 152 | Train acc:  100.00 | loss: 0.00544 | Val acc:  50.00 | loss: 3.54911 | Time: 0m 0s\n",
            "Epoch: 153 | Train acc:  100.00 | loss: 0.00844 | Val acc:  51.79 | loss: 3.45173 | Time: 0m 0s\n",
            "Epoch: 154 | Train acc:  100.00 | loss: 0.00813 | Val acc:  41.07 | loss: 3.30899 | Time: 0m 0s\n",
            "Epoch: 155 | Train acc:  100.00 | loss: 0.00578 | Val acc:  50.00 | loss: 3.50747 | Time: 0m 0s\n",
            "Epoch: 156 | Train acc:  100.00 | loss: 0.00625 | Val acc:  50.00 | loss: 3.42456 | Time: 0m 0s\n",
            "Epoch: 157 | Train acc:  100.00 | loss: 0.00505 | Val acc:  50.00 | loss: 3.59095 | Time: 0m 0s\n",
            "Epoch: 158 | Train acc:  100.00 | loss: 0.00610 | Val acc:  50.00 | loss: 3.15687 | Time: 0m 0s\n",
            "Epoch: 159 | Train acc:  100.00 | loss: 0.00437 | Val acc:  46.43 | loss: 3.47223 | Time: 0m 0s\n",
            "Epoch: 160 | Train acc:  100.00 | loss: 0.00498 | Val acc:  48.21 | loss: 3.23030 | Time: 0m 0s\n",
            "Epoch: 161 | Train acc:  100.00 | loss: 0.00602 | Val acc:  48.21 | loss: 3.10168 | Time: 0m 0s\n",
            "Epoch: 162 | Train acc:  100.00 | loss: 0.00343 | Val acc:  44.64 | loss: 3.31617 | Time: 0m 0s\n",
            "Epoch: 163 | Train acc:  100.00 | loss: 0.00613 | Val acc:  42.86 | loss: 3.45942 | Time: 0m 0s\n",
            "Epoch: 164 | Train acc:  100.00 | loss: 0.00663 | Val acc:  42.86 | loss: 3.32492 | Time: 0m 0s\n",
            "Epoch: 165 | Train acc:  100.00 | loss: 0.00459 | Val acc:  48.21 | loss: 3.54775 | Time: 0m 0s\n",
            "Epoch: 166 | Train acc:  100.00 | loss: 0.00538 | Val acc:  50.00 | loss: 3.24282 | Time: 0m 0s\n",
            "Epoch: 167 | Train acc:  100.00 | loss: 0.00458 | Val acc:  46.43 | loss: 3.52044 | Time: 0m 0s\n",
            "Epoch: 168 | Train acc:  100.00 | loss: 0.00596 | Val acc:  42.86 | loss: 3.24505 | Time: 0m 0s\n",
            "Epoch: 169 | Train acc:  100.00 | loss: 0.00407 | Val acc:  50.00 | loss: 3.40744 | Time: 0m 0s\n",
            "Epoch: 170 | Train acc:  100.00 | loss: 0.00525 | Val acc:  44.64 | loss: 3.30933 | Time: 0m 0s\n",
            "Epoch: 171 | Train acc:  100.00 | loss: 0.00335 | Val acc:  42.86 | loss: 3.45440 | Time: 0m 0s\n",
            "Epoch: 172 | Train acc:  100.00 | loss: 0.00337 | Val acc:  46.43 | loss: 3.43832 | Time: 0m 0s\n",
            "Epoch: 173 | Train acc:  100.00 | loss: 0.00477 | Val acc:  50.00 | loss: 3.31718 | Time: 0m 0s\n",
            "Epoch: 174 | Train acc:  100.00 | loss: 0.00480 | Val acc:  51.79 | loss: 3.47340 | Time: 0m 0s\n",
            "Epoch: 175 | Train acc:  100.00 | loss: 0.00511 | Val acc:  46.43 | loss: 3.48984 | Time: 0m 0s\n",
            "Epoch: 176 | Train acc:  100.00 | loss: 0.00471 | Val acc:  44.64 | loss: 3.32287 | Time: 0m 0s\n",
            "Epoch: 177 | Train acc:  100.00 | loss: 0.00572 | Val acc:  42.86 | loss: 3.57942 | Time: 0m 0s\n",
            "Epoch: 178 | Train acc:  100.00 | loss: 0.00527 | Val acc:  44.64 | loss: 3.21816 | Time: 0m 0s\n",
            "Epoch: 179 | Train acc:  100.00 | loss: 0.00405 | Val acc:  46.43 | loss: 3.37188 | Time: 0m 0s\n",
            "Epoch: 180 | Train acc:  100.00 | loss: 0.00448 | Val acc:  46.43 | loss: 3.90553 | Time: 0m 0s\n",
            "Epoch: 181 | Train acc:  100.00 | loss: 0.00308 | Val acc:  44.64 | loss: 3.35744 | Time: 0m 0s\n",
            "Epoch: 182 | Train acc:  100.00 | loss: 0.00290 | Val acc:  41.07 | loss: 3.83146 | Time: 0m 0s\n",
            "Epoch: 183 | Train acc:  100.00 | loss: 0.00334 | Val acc:  42.86 | loss: 3.85411 | Time: 0m 0s\n",
            "Epoch: 184 | Train acc:  100.00 | loss: 0.00311 | Val acc:  46.43 | loss: 3.53689 | Time: 0m 0s\n",
            "Epoch: 185 | Train acc:  100.00 | loss: 0.00267 | Val acc:  42.86 | loss: 3.59915 | Time: 0m 0s\n",
            "Epoch: 186 | Train acc:  100.00 | loss: 0.00465 | Val acc:  48.21 | loss: 3.30899 | Time: 0m 0s\n",
            "Epoch: 187 | Train acc:  100.00 | loss: 0.00365 | Val acc:  44.64 | loss: 3.53398 | Time: 0m 0s\n",
            "Epoch: 188 | Train acc:  100.00 | loss: 0.00322 | Val acc:  44.64 | loss: 3.54037 | Time: 0m 0s\n",
            "Epoch: 189 | Train acc:  100.00 | loss: 0.00400 | Val acc:  51.79 | loss: 3.28709 | Time: 0m 0s\n",
            "Epoch: 190 | Train acc:  100.00 | loss: 0.00314 | Val acc:  50.00 | loss: 3.60075 | Time: 0m 0s\n",
            "Epoch: 191 | Train acc:  100.00 | loss: 0.00284 | Val acc:  42.86 | loss: 3.60277 | Time: 0m 0s\n",
            "Epoch: 192 | Train acc:  100.00 | loss: 0.00332 | Val acc:  46.43 | loss: 3.40106 | Time: 0m 0s\n",
            "Epoch: 193 | Train acc:  100.00 | loss: 0.00362 | Val acc:  53.57 | loss: 3.29982 | Time: 0m 0s\n",
            "Epoch: 194 | Train acc:  100.00 | loss: 0.00386 | Val acc:  46.43 | loss: 3.85108 | Time: 0m 0s\n",
            "Epoch: 195 | Train acc:  100.00 | loss: 0.00258 | Val acc:  42.86 | loss: 3.63245 | Time: 0m 0s\n",
            "Epoch: 196 | Train acc:  100.00 | loss: 0.00292 | Val acc:  46.43 | loss: 3.60416 | Time: 0m 0s\n",
            "Epoch: 197 | Train acc:  100.00 | loss: 0.00207 | Val acc:  42.86 | loss: 3.86659 | Time: 0m 0s\n",
            "Epoch: 198 | Train acc:  100.00 | loss: 0.00270 | Val acc:  44.64 | loss: 3.48758 | Time: 0m 0s\n",
            "Epoch: 199 | Train acc:  100.00 | loss: 0.00417 | Val acc:  48.21 | loss: 3.59975 | Time: 0m 0s\n"
          ]
        }
      ]
    },
    {
      "cell_type": "code",
      "source": [
        "y_train.shape"
      ],
      "metadata": {
        "colab": {
          "base_uri": "https://localhost:8080/"
        },
        "id": "VmumuBHOCbEi",
        "outputId": "bf4d02bb-ec63-4cce-8ca4-300afc1108a3"
      },
      "execution_count": 100,
      "outputs": [
        {
          "output_type": "execute_result",
          "data": {
            "text/plain": [
              "torch.Size([26])"
            ]
          },
          "metadata": {},
          "execution_count": 100
        }
      ]
    },
    {
      "cell_type": "code",
      "source": [
        "yhat = model(X_test_tensor.float().to(device))\n",
        "#testloss = criterion(yhat, y_test_tensor.type(torch.LongTensor).to(device))\n",
        "_, predicted = torch.max(yhat.data, 1)\n",
        "\n",
        "predicted"
      ],
      "metadata": {
        "colab": {
          "base_uri": "https://localhost:8080/"
        },
        "id": "fY_gOH2aCbHq",
        "outputId": "1ab70251-b69c-4c71-d05d-e6283c3ceb70"
      },
      "execution_count": 101,
      "outputs": [
        {
          "output_type": "execute_result",
          "data": {
            "text/plain": [
              "tensor([0, 0, 1, 0, 0, 0, 0, 1, 1, 0, 0, 0, 0, 1, 0, 0, 0, 0, 0, 0, 1, 0, 0, 0,\n",
              "        0, 0, 0, 0, 0, 0, 0, 0, 0, 0], device='cuda:0')"
            ]
          },
          "metadata": {},
          "execution_count": 101
        }
      ]
    },
    {
      "cell_type": "code",
      "source": [
        "import matplotlib.pyplot as plt\n",
        "fig = plt.figure(figsize=(10, 6))\n",
        "ax  = fig.add_subplot(1, 1, 1)\n",
        "ax.plot(train_losses, label = 'train loss')\n",
        "ax.plot(valid_losses, label = 'valid loss')\n",
        "plt.legend()\n",
        "ax.set_xlabel('updates')\n",
        "ax.set_ylabel('loss')"
      ],
      "metadata": {
        "colab": {
          "base_uri": "https://localhost:8080/",
          "height": 406
        },
        "id": "LRktsDYqCoTy",
        "outputId": "a0a970b1-e5d6-4276-c215-0e888f76c8d5"
      },
      "execution_count": 102,
      "outputs": [
        {
          "output_type": "execute_result",
          "data": {
            "text/plain": [
              "Text(0, 0.5, 'loss')"
            ]
          },
          "metadata": {},
          "execution_count": 102
        },
        {
          "output_type": "display_data",
          "data": {
            "text/plain": [
              "<Figure size 720x432 with 1 Axes>"
            ],
            "image/png": "[encoded data removed]"
          },
          "metadata": {
            "needs_background": "light"
          }
        }
      ]
    },
    {
      "cell_type": "code",
      "source": [
        "#train_losses"
      ],
      "metadata": {
        "id": "CSo4x3NBCoW7"
      },
      "execution_count": 113,
      "outputs": []
    },
    {
      "cell_type": "code",
      "source": [
        "fig = plt.figure(figsize=(10, 6))\n",
        "ax  = fig.add_subplot(1, 1, 1)\n",
        "ax.plot(train_accs, label = 'train acc')\n",
        "ax.plot(valid_accs, label = 'valid acc')\n",
        "plt.legend()\n",
        "ax.set_xlabel('updates')\n",
        "ax.set_ylabel('acc')"
      ],
      "metadata": {
        "colab": {
          "base_uri": "https://localhost:8080/",
          "height": 406
        },
        "id": "O2oSUb9_G7uk",
        "outputId": "cc92150b-fa98-4586-f1f5-701ad1b17a1b"
      },
      "execution_count": 104,
      "outputs": [
        {
          "output_type": "execute_result",
          "data": {
            "text/plain": [
              "Text(0, 0.5, 'acc')"
            ]
          },
          "metadata": {},
          "execution_count": 104
        },
        {
          "output_type": "display_data",
          "data": {
            "text/plain": [
              "<Figure size 720x432 with 1 Axes>"
            ],
            "image/png": "[encoded data removed]"
          },
          "metadata": {
            "needs_background": "light"
          }
        }
      ]
    },
    {
      "cell_type": "code",
      "source": [],
      "metadata": {
        "id": "GtcFliZbNejE"
      },
      "execution_count": null,
      "outputs": []
    }
  ]
}